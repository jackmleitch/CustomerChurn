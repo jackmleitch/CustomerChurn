{
 "cells": [
  {
   "cell_type": "markdown",
   "id": "b78bfcea-7782-4603-adbd-6e3fe4701918",
   "metadata": {
    "tags": []
   },
   "source": [
    "# Building Interpretable Models on Imbalanced Data\n",
    "## Predicting customer churn from a telecom provider "
   ]
  },
  {
   "cell_type": "markdown",
   "id": "e3b42f99-fb6d-42cf-980d-884f94573134",
   "metadata": {},
   "source": [
    "I've always believed that to truely learn data science you need to practice data science and I wanted to do this project to practice working with imbalanced classes in classification problems. This was also a perfect oppurtinity to start working with [mlflow](https://mlflow.org/) to help track my machine learning experiments: it allows me to track the different models i've used, the parameters i've training with, and the metrics i've recorded."
   ]
  },
  {
   "cell_type": "markdown",
   "id": "fb7366cb-59e7-4800-96d4-231713218146",
   "metadata": {},
   "source": [
    "This project was aimed at predicting customer churn using the teleccomunications data found on [Kaggle](https://www.kaggle.com/c/customer-churn-prediction-2020/overview). That is, we want to be able to predict if a given customer is going the leave the telecom provider based on the infromation we have on that customer. Now why is this useful? Well, if we can predict which customers we think are going to leave **before** they actually leave then we can try to do something about it! For example, we could target them with specific offers, and maybe we could even use the model to provide us insight into what to offer them because we will know, or at least have an idea, as to why they are leaving. "
   ]
  },
  {
   "cell_type": "markdown",
   "id": "7ac10b3c-b6e4-4fcf-b18c-b8698d091304",
   "metadata": {},
   "source": [
    "## Performance vs Interpretability \n",
    "It's very important to know and understand the problem/task at hand before we start to even think about writing any code. Would it be useful in this case to build a really powerful model like XGBOOST? No, of course not. Our goal isn't to squeeze every drop of performance out of our model. Our goal is to **understand** why people are leaving so we can actually do something about it and try to get them to stay. In an ideal world we would build a very interpretable model, but in reality we are going to have to find a happy medium between performance and interpretability. Logistic regression would be a good start."
   ]
  },
  {
   "cell_type": "markdown",
   "id": "18fa07ae-9c0a-479f-82e5-063fd81c565f",
   "metadata": {},
   "source": [
    "## Model Evaluation\n",
    "We now need to decide how we are going to evaluate our models and what we are going to be happy with. Personally, I think it's important to decide an end goal beforehand as otherwise it's going to be hard to decide when to stop. \n",
    "\n",
    "Due to the nature of our data it is likely that our classes are going to be highly imbalanced, with the case we are interested in (customers leaving) being the minority class. This makes selecting the right metric super important.\n",
    "\n",
    "<img src=\"data/blog_content/class_imbalance_meme.jpg\" width=\"300\" align=\"center\"/>\n",
    "    \n",
    "The metrics we are going to be interested in are **precision**, **recall**, and other metrics associated with these. Precision is the ratio of correct positive predictions to the overall number of positive predictions. Recall is the ratio of correct positive predictions to the overall number of positive predictions in the dataset. \n",
    "In our case we are looking at trying to retain customers by predicting which customers are going to leave: so we aren't too fussed if we miss-classify some customers as 'churn' when they are not (false positives). If anything, these miss-classifications might be customers that would soon become 'churn' if nothing changes. That is, they may lie on or near the decision boundary. So, we are looking to **maximize recall** as it will minimize the number of false negatives. \n",
    "\n",
    "We are also going to look at the **F-measure** as it provides a way to express both concerns of precision and recall with a single score - we don't just want to forfeit precision to get 100% recall!\n",
    "\n",
    "### Model Specifications\n",
    "Once we have built our final model, we can then use a precision-recall curve to optimize our performance of on the positive (minority class). In this case we are going to assume that stakeholders in our imaginary telecoms business want to **achieve a recall of 0.70** (i.e. we identify 70% of the positive samples correctly) while maximizing precision. \n"
   ]
  },
  {
   "cell_type": "markdown",
   "id": "95c90c9e-a05f-4150-befc-3bc4356a788d",
   "metadata": {},
   "source": [
    "## Data\n",
    "* train.csv - the training set. Contains 4250 rows with 20 columns. 3652 samples (85.93%) belong to class churn=no and 598 samples (14.07%) belong to class churn=yes.\n",
    "* test.csv - the test set. Contains 850 rows with 18 columns.\n",
    "\n",
    "The 20 columns contain the following information:\n",
    "* **state**, string. 2-letter code of the US state of customer residence\n",
    "* **account_length**, numerical. Number of months the customer has been with the current telcom provider\n",
    "* **area_code**, string=\"area_code_AAA\" where AAA = 3 digit area code.\n",
    "* **international_plan**, (yes/no). The customer has international plan.\n",
    "* **voice_mail_plan**, (yes/no). The customer has voice mail plan.\n",
    "* **number_vmail_messages**, numerical. Number of voice-mail messages.\n",
    "* **total_a_b** with **a = (day, eve, night, intl)** and **b = (minutes, calls, charge)**, numerical. Total (minutes, calls, charge) of (day, eve, night, intl) calls.\n",
    "* **number_customer_service_calls**, numerical. Number of calls to customer service\n",
    "* **churn**, (yes/no). Customer churn - target variable."
   ]
  },
  {
   "cell_type": "code",
   "execution_count": 52,
   "id": "501d5d1a-0945-40e5-87fe-e7e9e31348c2",
   "metadata": {},
   "outputs": [],
   "source": [
    "import pandas as pd\n",
    "from src.data.load_data import read_params\n",
    "# load in training data \n",
    "config = read_params(\"params.yaml\")\n",
    "external_data_path = config[\"external_data_config\"][\"external_data_csv\"]\n",
    "df = pd.read_csv(external_data_path, sep=\",\", encoding=\"utf-8\")\n",
    "# check we have our 20 cols\n",
    "assert len(df.columns) == 20"
   ]
  },
  {
   "cell_type": "markdown",
   "id": "335b89c6-f205-4a12-93e6-00ea23fb3362",
   "metadata": {},
   "source": [
    "EDA (along with the all the modeling etc.) was done in different python scripts and I have chosen to not include it here as it is irrelevant to the topic I am writing about. It is nonetheless very important and you can find this whole project on my [Github page](https://github.com/jackmleitch/CustomerChurn). \n",
    "\n",
    "\n",
    "Due to the high cardinality of the area_code and state columns we are going to drop these for our experiments. If we wanted to use it we could always bin the states by region as this might contain key information regarding churn rate (for example, bad phone service)."
   ]
  },
  {
   "cell_type": "code",
   "execution_count": 53,
   "id": "45cea395-4aba-4055-a376-b0d005219b6c",
   "metadata": {},
   "outputs": [
    {
     "data": {
      "text/html": [
       "<div>\n",
       "<style scoped>\n",
       "    .dataframe tbody tr th:only-of-type {\n",
       "        vertical-align: middle;\n",
       "    }\n",
       "\n",
       "    .dataframe tbody tr th {\n",
       "        vertical-align: top;\n",
       "    }\n",
       "\n",
       "    .dataframe thead th {\n",
       "        text-align: right;\n",
       "    }\n",
       "</style>\n",
       "<table border=\"1\" class=\"dataframe\">\n",
       "  <thead>\n",
       "    <tr style=\"text-align: right;\">\n",
       "      <th></th>\n",
       "      <th>account_length</th>\n",
       "      <th>international_plan</th>\n",
       "      <th>voice_mail_plan</th>\n",
       "      <th>number_vmail_messages</th>\n",
       "      <th>total_day_minutes</th>\n",
       "      <th>total_day_calls</th>\n",
       "      <th>total_day_charge</th>\n",
       "      <th>total_eve_minutes</th>\n",
       "      <th>total_eve_calls</th>\n",
       "      <th>total_eve_charge</th>\n",
       "      <th>total_night_minutes</th>\n",
       "      <th>total_night_calls</th>\n",
       "      <th>total_night_charge</th>\n",
       "      <th>total_intl_minutes</th>\n",
       "      <th>total_intl_calls</th>\n",
       "      <th>total_intl_charge</th>\n",
       "      <th>number_customer_service_calls</th>\n",
       "      <th>churn</th>\n",
       "    </tr>\n",
       "  </thead>\n",
       "  <tbody>\n",
       "    <tr>\n",
       "      <th>0</th>\n",
       "      <td>107</td>\n",
       "      <td>no</td>\n",
       "      <td>yes</td>\n",
       "      <td>26</td>\n",
       "      <td>161.6</td>\n",
       "      <td>123</td>\n",
       "      <td>27.47</td>\n",
       "      <td>195.5</td>\n",
       "      <td>103</td>\n",
       "      <td>16.62</td>\n",
       "      <td>254.4</td>\n",
       "      <td>103</td>\n",
       "      <td>11.45</td>\n",
       "      <td>13.7</td>\n",
       "      <td>3</td>\n",
       "      <td>3.70</td>\n",
       "      <td>1</td>\n",
       "      <td>no</td>\n",
       "    </tr>\n",
       "    <tr>\n",
       "      <th>1</th>\n",
       "      <td>137</td>\n",
       "      <td>no</td>\n",
       "      <td>no</td>\n",
       "      <td>0</td>\n",
       "      <td>243.4</td>\n",
       "      <td>114</td>\n",
       "      <td>41.38</td>\n",
       "      <td>121.2</td>\n",
       "      <td>110</td>\n",
       "      <td>10.30</td>\n",
       "      <td>162.6</td>\n",
       "      <td>104</td>\n",
       "      <td>7.32</td>\n",
       "      <td>12.2</td>\n",
       "      <td>5</td>\n",
       "      <td>3.29</td>\n",
       "      <td>0</td>\n",
       "      <td>no</td>\n",
       "    </tr>\n",
       "    <tr>\n",
       "      <th>2</th>\n",
       "      <td>84</td>\n",
       "      <td>yes</td>\n",
       "      <td>no</td>\n",
       "      <td>0</td>\n",
       "      <td>299.4</td>\n",
       "      <td>71</td>\n",
       "      <td>50.90</td>\n",
       "      <td>61.9</td>\n",
       "      <td>88</td>\n",
       "      <td>5.26</td>\n",
       "      <td>196.9</td>\n",
       "      <td>89</td>\n",
       "      <td>8.86</td>\n",
       "      <td>6.6</td>\n",
       "      <td>7</td>\n",
       "      <td>1.78</td>\n",
       "      <td>2</td>\n",
       "      <td>no</td>\n",
       "    </tr>\n",
       "    <tr>\n",
       "      <th>3</th>\n",
       "      <td>75</td>\n",
       "      <td>yes</td>\n",
       "      <td>no</td>\n",
       "      <td>0</td>\n",
       "      <td>166.7</td>\n",
       "      <td>113</td>\n",
       "      <td>28.34</td>\n",
       "      <td>148.3</td>\n",
       "      <td>122</td>\n",
       "      <td>12.61</td>\n",
       "      <td>186.9</td>\n",
       "      <td>121</td>\n",
       "      <td>8.41</td>\n",
       "      <td>10.1</td>\n",
       "      <td>3</td>\n",
       "      <td>2.73</td>\n",
       "      <td>3</td>\n",
       "      <td>no</td>\n",
       "    </tr>\n",
       "    <tr>\n",
       "      <th>4</th>\n",
       "      <td>121</td>\n",
       "      <td>no</td>\n",
       "      <td>yes</td>\n",
       "      <td>24</td>\n",
       "      <td>218.2</td>\n",
       "      <td>88</td>\n",
       "      <td>37.09</td>\n",
       "      <td>348.5</td>\n",
       "      <td>108</td>\n",
       "      <td>29.62</td>\n",
       "      <td>212.6</td>\n",
       "      <td>118</td>\n",
       "      <td>9.57</td>\n",
       "      <td>7.5</td>\n",
       "      <td>7</td>\n",
       "      <td>2.03</td>\n",
       "      <td>3</td>\n",
       "      <td>no</td>\n",
       "    </tr>\n",
       "  </tbody>\n",
       "</table>\n",
       "</div>"
      ],
      "text/plain": [
       "   account_length international_plan voice_mail_plan  number_vmail_messages  \\\n",
       "0             107                 no             yes                     26   \n",
       "1             137                 no              no                      0   \n",
       "2              84                yes              no                      0   \n",
       "3              75                yes              no                      0   \n",
       "4             121                 no             yes                     24   \n",
       "\n",
       "   total_day_minutes  total_day_calls  total_day_charge  total_eve_minutes  \\\n",
       "0              161.6              123             27.47              195.5   \n",
       "1              243.4              114             41.38              121.2   \n",
       "2              299.4               71             50.90               61.9   \n",
       "3              166.7              113             28.34              148.3   \n",
       "4              218.2               88             37.09              348.5   \n",
       "\n",
       "   total_eve_calls  total_eve_charge  total_night_minutes  total_night_calls  \\\n",
       "0              103             16.62                254.4                103   \n",
       "1              110             10.30                162.6                104   \n",
       "2               88              5.26                196.9                 89   \n",
       "3              122             12.61                186.9                121   \n",
       "4              108             29.62                212.6                118   \n",
       "\n",
       "   total_night_charge  total_intl_minutes  total_intl_calls  \\\n",
       "0               11.45                13.7                 3   \n",
       "1                7.32                12.2                 5   \n",
       "2                8.86                 6.6                 7   \n",
       "3                8.41                10.1                 3   \n",
       "4                9.57                 7.5                 7   \n",
       "\n",
       "   total_intl_charge  number_customer_service_calls churn  \n",
       "0               3.70                              1    no  \n",
       "1               3.29                              0    no  \n",
       "2               1.78                              2    no  \n",
       "3               2.73                              3    no  \n",
       "4               2.03                              3    no  "
      ]
     },
     "execution_count": 53,
     "metadata": {},
     "output_type": "execute_result"
    }
   ],
   "source": [
    "df = df.drop(columns=[\"area_code\", \"state\"], axis=1)\n",
    "df.head()"
   ]
  },
  {
   "cell_type": "markdown",
   "id": "fe03113c-28b9-4a93-aab6-b64bbe2fab39",
   "metadata": {},
   "source": [
    "We can look at a correlation matrix to see any initial promising features."
   ]
  },
  {
   "cell_type": "code",
   "execution_count": 54,
   "id": "eedeaa08-7ccf-4a17-895c-d00af00c3fa9",
   "metadata": {},
   "outputs": [
    {
     "data": {
      "text/plain": [
       "<AxesSubplot:>"
      ]
     },
     "execution_count": 54,
     "metadata": {},
     "output_type": "execute_result"
    },
    {
     "data": {
      "image/png": "[encoded data removed]",
      "text/plain": [
       "<Figure size 792x648 with 2 Axes>"
      ]
     },
     "metadata": {},
     "output_type": "display_data"
    }
   ],
   "source": [
    "import numpy as np\n",
    "import seaborn as sns\n",
    "import matplotlib.pyplot as plt\n",
    "sns.set_theme(style=\"white\")\n",
    "# Compute the correlation matrix\n",
    "corr = df.corr()\n",
    "# Generate a mask for the upper triangle\n",
    "mask = np.triu(np.ones_like(corr, dtype=bool))\n",
    "# Set up the matplotlib figure\n",
    "f, ax = plt.subplots(figsize=(11, 9))\n",
    "# Generate a custom diverging colormap\n",
    "cmap = sns.diverging_palette(230, 20, as_cmap=True)\n",
    "# Draw the heatmap with the mask and correct aspect ratio\n",
    "sns.heatmap(corr, mask=mask, cmap=cmap, vmax=.3, center=0,\n",
    "            square=True, linewidths=.5, cbar_kws={\"shrink\": .5})"
   ]
  },
  {
   "cell_type": "markdown",
   "id": "d07fb566-1793-498c-8a67-b8b36f683fd4",
   "metadata": {},
   "source": [
    "Ok, this doesn't look great but we can see that churn is somewhat correlated with total_day_minutes, total_day_charge, and number_customer_service_calls. Let's build a simple **baseline model** with total_day_minutes and number_customer_service_calls (we omit total_day_charge because it's strongly correlated with total_day_minutes)."
   ]
  },
  {
   "cell_type": "markdown",
   "id": "2f08d9f0-49d3-471b-8b3b-7a33a776dbf6",
   "metadata": {},
   "source": [
    "## Modeling   \n",
    "The first thing I always do is split the data into train and validation sets. In this case we use stratified K-fold cross-validation as our dataset is highly imbalanced and we want to ensure the class distribution is consistent across folds. "
   ]
  },
  {
   "cell_type": "code",
   "execution_count": 55,
   "id": "84a27b5d-f5bd-43e8-9954-07d0d36dc49c",
   "metadata": {},
   "outputs": [],
   "source": [
    "from sklearn.model_selection import StratifiedKFold\n",
    "\n",
    "def stratKFold(df, n_splits=5):\n",
    "    \"\"\"\n",
    "    Perform stratified K fold cross validation on training set\n",
    "    :param df: pd dataframe to split\n",
    "    :param n_splits: number of folds \n",
    "    :return: df with kfold column\n",
    "    \"\"\"\n",
    "    # create new column 'kfold' with val -1\n",
    "    df[\"kfold\"] = -1\n",
    "    df = df.sample(frac=1, random_state=42).reset_index(drop=True)\n",
    "    # target values\n",
    "    y = df['churn'].values\n",
    "    # initialise kfold class\n",
    "    kf = StratifiedKFold(n_splits=n_splits)\n",
    "    for f, (t_, v_) in enumerate(kf.split(X=df, y=y)):\n",
    "        df.loc[v_, \"kfold\"] = f\n",
    "    return df\n",
    "        \n",
    "df = stratKFold(df)"
   ]
  },
  {
   "cell_type": "markdown",
   "id": "c15ecdee-f1d2-45c9-8a45-20a6e33619c3",
   "metadata": {},
   "source": [
    "We can now go ahead and map our churn column to numeric values."
   ]
  },
  {
   "cell_type": "code",
   "execution_count": 56,
   "id": "3bf8e270-01bd-4047-b903-8a27e7ff2166",
   "metadata": {},
   "outputs": [],
   "source": [
    "# target mapping\n",
    "target_mapping = {\"no\": 0, \"yes\": 1}\n",
    "df.loc[:, 'churn'] = df['churn'].map(target_mapping)"
   ]
  },
  {
   "cell_type": "markdown",
   "id": "b955745b-a32c-400a-9d9b-b30d8e64ad14",
   "metadata": {},
   "source": [
    "### Baseline Model\n",
    "We start by building a simple baseline model so that we have something to compare our later models to. In a regression scenario we could simply use the average of the target variable at every prediction, in our classification case however we are going to use a logistic regression model trained on our two most correlated features. "
   ]
  },
  {
   "cell_type": "markdown",
   "id": "9d4710d9-8448-4543-b1da-6737bb07a8a7",
   "metadata": {},
   "source": [
    "Before we start lets initialize Mlflow and write a general scoring function to evaluate our model."
   ]
  },
  {
   "cell_type": "code",
   "execution_count": 57,
   "id": "5a5c5a6d-0ec1-4e71-a6e3-973a672dc1dc",
   "metadata": {},
   "outputs": [],
   "source": [
    "import mlflow \n",
    "from sklearn.metrics import f1_score, recall_score, precision_score\n",
    "\n",
    "# initialize mlflow\n",
    "mlflow.set_experiment(\"mlflow/customer_churn_model\")\n",
    "\n",
    "# scoring function \n",
    "def score(y, preds):\n",
    "    \"\"\"\n",
    "    Returns corresponding metric scores \n",
    "    :param y: true y values\n",
    "    :param preds: predicted y values\n",
    "    :return: f1_score, recall, and precision scores \n",
    "    \"\"\"\n",
    "    f1 = f1_score(y, preds)\n",
    "    recall = recall_score(y, preds)\n",
    "    precision = precision_score(y, preds)\n",
    "    return [f1, recall, precision]"
   ]
  },
  {
   "cell_type": "markdown",
   "id": "7ebc9773-3dcc-46a1-b30b-15f53b83f9a6",
   "metadata": {},
   "source": [
    "Now let's build our baseline model and see how it does on each validation set!"
   ]
  },
  {
   "cell_type": "code",
   "execution_count": 58,
   "id": "2977dee8-51cf-4118-91de-88c6a2934f3f",
   "metadata": {},
   "outputs": [
    {
     "name": "stdout",
     "output_type": "stream",
     "text": [
      "Average F1 = 0.08725760427444854, Recall = 0.04847338935574229, Precision = 0.440932400932401\n"
     ]
    }
   ],
   "source": [
    "from sklearn.linear_model import LogisticRegression\n",
    "from sklearn.preprocessing import StandardScaler\n",
    "# baseline model\n",
    "f1_scores, recall_scores, precision_scores = [], [], []\n",
    "for fold in range(5):\n",
    "    # define train and validation set\n",
    "    features = [\"total_day_minutes\", \"number_customer_service_calls\"]\n",
    "    df_train = df[df.kfold != fold].reset_index(drop=True)\n",
    "    df_valid = df[df.kfold == fold].reset_index(drop=True)\n",
    "    # target and features\n",
    "    y_train = df_train['churn'].values\n",
    "    y_valid = df_valid['churn'].values\n",
    "    # init and fit scaler \n",
    "    scaler = StandardScaler()\n",
    "    x_train = scaler.fit_transform(df_train[features])\n",
    "    x_valid = scaler.transform(df_valid[features])\n",
    "    # create and train model\n",
    "    clf = LogisticRegression()\n",
    "    clf.fit(x_train, y_train)\n",
    "    preds = clf.predict(x_valid)\n",
    "    # score model\n",
    "    scores = score(y_valid, preds)\n",
    "    f1_scores.append(scores[0])\n",
    "    recall_scores.append(scores[1])\n",
    "    precision_scores.append(scores[2])\n",
    "# average scores over each fold\n",
    "f1_avg = np.average(f1_scores)\n",
    "recall_avg = np.average(recall_scores)\n",
    "precision_avg = np.average(precision_scores)\n",
    "print(f\"Average F1 = {f1_avg}, Recall = {recall_avg}, Precision = {precision_avg}\")\n",
    "\n",
    "# log metrics on mlflow \n",
    "with mlflow.start_run(run_name=\"lr_baseline\") as mlops_run:\n",
    "        mlflow.log_metric(\"F1\", f1_avg)\n",
    "        mlflow.log_metric(\"Recall\", recall_avg)\n",
    "        mlflow.log_metric(\"Preision\", precision_avg)"
   ]
  },
  {
   "cell_type": "markdown",
   "id": "d3ef2199-c013-48b1-8076-b2575dd6f501",
   "metadata": {},
   "source": [
    "So yea, the results aren't great (actually they are terrible (I was trying to be positive!)) but that only means we are going to get better. This was only a baseline! We can do a few things to improve our model: \n",
    "* We can balance out our classes by over and under-sampling as the imbalance is causing bias towards the majority class in our model.\n",
    "* We can train on more features."
   ]
  },
  {
   "cell_type": "markdown",
   "id": "b3b80c21-5701-42ad-a778-3d2d8cdc50ee",
   "metadata": {},
   "source": [
    "### SMOTE: To Over-Sample the Minority Class\n",
    "One problem we have with imbalanced classification is that there are too few examples of the minority class for a model to effectively learn the decision boundary. One way to solve this problem would be to over-sample the examples in the minority class. This could be achieved by simply duplicating examples from the minority class in the training dataset, although this does not provide any additional information to the model. An improvement on duplicating examples from the minority class is to synthesize new examples from the minority class. A common technique for this, introduced in [this paper](https://arxiv.org/abs/1106.1813), is SMOTE. It's worth noting that over sampling isn't our only option, we could for example  under-sample (or combine a mix of the two) by using a technique such as [TOMEK-links](https://en.wikipedia.org/wiki/Oversampling_and_undersampling_in_data_analysis#Tomek_links) (SMOTE-TOMEK helps do both under and over-sampling in one go). In our case however, the best performance boost came from SMOTE alone. \n",
    "\n",
    "Before we do this however, lets write a general feature processing pipeline to get our data ready for modeling. Our function returns a Sklearn pipeline object that we can use to fit and transform our data. It first splits the data into numeric and categorical features. The categorical features as encoded using one-hot encoding. The numeric features first have their missing values imputed, they then are scaled to be between 0 and 1. It's worth noting that scaling isn't actually necessary for logistic regression unless you are using regularization, but in our case it did boost the performance."
   ]
  },
  {
   "cell_type": "code",
   "execution_count": 59,
   "id": "15720250-d8ab-4495-a2dc-3efe380df291",
   "metadata": {},
   "outputs": [],
   "source": [
    "from sklearn.preprocessing import StandardScaler, MinMaxScaler, OneHotEncoder\n",
    "from sklearn.impute import SimpleImputer\n",
    "from sklearn.pipeline import Pipeline, FeatureUnion\n",
    "from mlxtend.feature_selection import ColumnSelector\n",
    "\n",
    "def feature_pipeline(config_path=\"params.yaml\"):\n",
    "    \"\"\"\n",
    "    :param config_path: path to params.yaml file\n",
    "    :return: preprocessing feature pipeline \n",
    "    \"\"\"\n",
    "    # load in config information\n",
    "    config = read_params(config_path)\n",
    "    num_features = config[\"raw_data_config\"][\"model_features\"][\"numeric\"]\n",
    "    cat_features = config[\"raw_data_config\"][\"model_features\"][\"categorical\"]\n",
    "    # transformers\n",
    "    transforms = []\n",
    "    # categorical pipeline\n",
    "    transforms.append(\n",
    "        (\n",
    "            \"catergorical\",\n",
    "            Pipeline(\n",
    "                [\n",
    "                    (\"select\", ColumnSelector(cols=cat_features)),\n",
    "                    (\"encode\", OneHotEncoder()),\n",
    "                ]\n",
    "            ),\n",
    "        )\n",
    "    )\n",
    "    # numeric pipeline\n",
    "    transforms.append(\n",
    "        (\n",
    "            \"numeric\",\n",
    "            Pipeline(\n",
    "                [\n",
    "                    (\"select\", ColumnSelector(cols=num_features)),\n",
    "                    (\"impute\", SimpleImputer(missing_values=np.nan, strategy=\"mean\")),\n",
    "                    (\"scale\", MinMaxScaler()),\n",
    "                ]\n",
    "            ),\n",
    "        )\n",
    "    )\n",
    "    # combine features\n",
    "    features = FeatureUnion(transforms)\n",
    "    return features"
   ]
  },
  {
   "cell_type": "markdown",
   "id": "6d1928d9-59ab-4e94-a6d3-2e31392cad87",
   "metadata": {},
   "source": [
    "A general training function is written below, notice we can choose whether we want to use SMOTE or not."
   ]
  },
  {
   "cell_type": "code",
   "execution_count": 60,
   "id": "fec61a38-76d6-4fb5-bb93-650e8c7a0171",
   "metadata": {},
   "outputs": [],
   "source": [
    "from imblearn.over_sampling import SMOTE\n",
    "def train(fold, df, model=LogisticRegression(solver='newton-cg'), smote=False):\n",
    "    \"\"\"\n",
    "    :param fold: fold to train model on\n",
    "    :param df: pandas dataframe containing our data\n",
    "    :param model: model to train data on\n",
    "    :param smote: boolean, perform smote over-sampling \n",
    "    :return: f1, recall, precision validation score for fold, as well as y_valid and preds\n",
    "    \"\"\"\n",
    "    # feature pipeline\n",
    "    features = feature_pipeline()\n",
    "\n",
    "    # define train and validation set\n",
    "    df_train = df[df.kfold != fold].reset_index(drop=True)\n",
    "    df_valid = df[df.kfold == fold].reset_index(drop=True)\n",
    "    # target and features\n",
    "    y_train = df_train['churn'].values\n",
    "    y_valid = df_valid['churn'].values\n",
    "\n",
    "    # create training and validation features\n",
    "    x_train = features.fit_transform(df_train)\n",
    "    x_valid = features.transform(df_valid)\n",
    "\n",
    "    # smote\n",
    "    if smote:\n",
    "        smt = SMOTE(random_state=42)\n",
    "        x_train, y_train = smt.fit_resample(x_train, y_train)\n",
    "\n",
    "    # create and train model\n",
    "    clf = model\n",
    "    clf.fit(x_train, y_train)\n",
    "    preds = clf.predict(x_valid)\n",
    "    # score model\n",
    "    scores = score(y_valid, preds)\n",
    "    return scores, [y_valid, preds]"
   ]
  },
  {
   "cell_type": "markdown",
   "id": "e6277a56-00bd-4621-ab42-186be07b0b23",
   "metadata": {},
   "source": [
    "Before we use SMOTE, let's train a logistic regression model on all of the features to try and get a new baseline.  "
   ]
  },
  {
   "cell_type": "code",
   "execution_count": 61,
   "id": "416724ac-4bf7-4131-b5f7-38bc2ff06acc",
   "metadata": {},
   "outputs": [
    {
     "name": "stdout",
     "output_type": "stream",
     "text": [
      "Average F1 = 0.27017200240542266, Recall = 0.1923109243697479, Precision = 0.4552432895715858\n"
     ]
    }
   ],
   "source": [
    "f1_scores, recall_scores, precision_scores = [], [], []\n",
    "for fold in range(5):\n",
    "    scores, _ = train(fold,df, smote=False)\n",
    "    f1, recall, precision = scores\n",
    "    f1_scores.append(f1)\n",
    "    recall_scores.append(recall)\n",
    "    precision_scores.append(precision)\n",
    "# average scores over each fold\n",
    "f1_avg = np.average(f1_scores)\n",
    "recall_avg = np.average(recall_scores)\n",
    "precision_avg = np.average(precision_scores)\n",
    "print(f\"Average F1 = {f1_avg}, Recall = {recall_avg}, Precision = {precision_avg}\")\n",
    "# log metrics on mlflow \n",
    "with mlflow.start_run(run_name=\"lr_all_features\") as mlops_run:\n",
    "        mlflow.log_metric(\"F1\", f1_avg)\n",
    "        mlflow.log_metric(\"Recall\", recall_avg)\n",
    "        mlflow.log_metric(\"Preision\", precision_avg)"
   ]
  },
  {
   "cell_type": "markdown",
   "id": "6b4b9b0d-b39d-45f9-a4ff-07cff78b6c19",
   "metadata": {},
   "source": [
    "The results are definitely better than before but still not great. We've waited long enough, let's try using SMOTE! We are going to use SMOTE to over-sample our churn datapoints so that we end up with equal class distributions. "
   ]
  },
  {
   "cell_type": "code",
   "execution_count": 62,
   "id": "c894b2f1-41a1-41a7-9ed2-afea1366ff95",
   "metadata": {},
   "outputs": [],
   "source": [
    "def train_and_eval(df, model=LogisticRegression(solver='newton-cg'), smote=True, model_name=\"\", params = {}):\n",
    "    '''\n",
    "    train model and evaluate it on each fold\n",
    "    :param df: pandas dataframe containing our data\n",
    "    :param model: model to train data on\n",
    "    :param model_name: string, for tracking on mlflow\n",
    "    :param model_name: dict, for tracking on mlflow\n",
    "    :return: average score for each metric\n",
    "    '''\n",
    "    f1_scores, recall_scores, precision_scores = [], [], []\n",
    "    for fold in range(5):\n",
    "        scores, _ = train(fold, df, model=model, smote=smote)\n",
    "        f1, recall, precision = scores\n",
    "        f1_scores.append(f1)\n",
    "        recall_scores.append(recall)\n",
    "        precision_scores.append(precision)\n",
    "    # average scores over each fold\n",
    "    f1_avg = np.average(f1_scores)\n",
    "    recall_avg = np.average(recall_scores)\n",
    "    precision_avg = np.average(precision_scores)\n",
    "    print(f\"Average F1 = {f1_avg}, Recall = {recall_avg}, Precision = {precision_avg}\")\n",
    "    # log metrics on mlflow \n",
    "    with mlflow.start_run(run_name=model_name) as mlops_run:\n",
    "            mlflow.log_metric(\"F1\", f1_avg)\n",
    "            mlflow.log_metric(\"Recall\", recall_avg)\n",
    "            mlflow.log_metric(\"Preision\", precision_avg)\n",
    "            if params:\n",
    "                mlflow.log_params(params)"
   ]
  },
  {
   "cell_type": "code",
   "execution_count": 63,
   "id": "a36bcd12-7640-425b-85f4-4f8434b07fe4",
   "metadata": {},
   "outputs": [
    {
     "name": "stdout",
     "output_type": "stream",
     "text": [
      "Average F1 = 0.5956485540301312, Recall = 0.8377591036414567, Precision = 0.4624717240827412\n"
     ]
    }
   ],
   "source": [
    "train_and_eval(df, model_name=\"lr_all_features_smote\")"
   ]
  },
  {
   "cell_type": "markdown",
   "id": "80b22345-6aac-4867-a0bf-3d588fe0abb0",
   "metadata": {},
   "source": [
    "Wow! We have boosted the F1 score from 0.28 to 0.61, and the recall has gone from 0.20 to 0.84! An important note is that the precision has practically stayed the same. Why is that? Well, what is precision measuring? Mathematically, precision the number of true positives divided by the number of true positives plus the number of false positives. It tells us that our model is correct 47% of the time when trying to predict positive samples. So by over-sampling we have decreased the number of false negatives but we have also increased the number of false positives. This is OK as we decided we will favor false positives over false negatives. An intuitive way to see this change is by looking at a **confusion matrix**. "
   ]
  },
  {
   "cell_type": "code",
   "execution_count": 64,
   "id": "e34dbb12-05ed-47c3-9ec0-364188186623",
   "metadata": {},
   "outputs": [
    {
     "data": {
      "image/png": "[encoded data removed]",
      "text/plain": [
       "<Figure size 1080x720 with 4 Axes>"
      ]
     },
     "metadata": {},
     "output_type": "display_data"
    }
   ],
   "source": [
    "from sklearn.metrics import confusion_matrix, ConfusionMatrixDisplay\n",
    "# get preds for non-smote and smote models\n",
    "_, evals = train(0, df, smote=False)\n",
    "_, evals_smote = train(0, df, smote=True)\n",
    "# set axis and plot\n",
    "fig, (ax1, ax2) = plt.subplots(nrows=1, ncols=2, figsize=(15,10))\n",
    "ax1.set_title(\"Model without SMOTE\")\n",
    "ConfusionMatrixDisplay.from_predictions(*evals, ax=ax1)\n",
    "ax2.set_title(\"Model with SMOTE\")\n",
    "ConfusionMatrixDisplay.from_predictions(*evals_smote, ax=ax2)\n",
    "plt.tight_layout()  \n",
    "plt.show()"
   ]
  },
  {
   "cell_type": "markdown",
   "id": "b13acbe7-53e9-4686-b9b8-8d7d5e89086c",
   "metadata": {},
   "source": [
    "We can see that the TP number goes from 25 to 101 and the FN number goes from 94 to 18, great! However, as a consequence of this we see the FP number goes from 22 to 121. But, as mentioned earlier, we are ok with that as we care more about finding out which customers are going to leave. \n",
    "A little side note: the FP and FN rates can be tuned using the probability threshold and the easiest way to compare the two models is to compare F1 scores."
   ]
  },
  {
   "cell_type": "markdown",
   "id": "eeeabf3e-5b8c-4634-b7f2-9f33c8e2be41",
   "metadata": {},
   "source": [
    "### But can we do better?\n",
    "It would be easy here to go all guns blazing and train an XGBOOST model, but remember that is **not** our goal. Our goal is to build an **interpretable** model that we can use to try and keep customers from leaving. \n",
    "As well as logistic regression, decision tree classifiers are very interpretable. Let's see how it gets on."
   ]
  },
  {
   "cell_type": "code",
   "execution_count": 65,
   "id": "cef0f09e-608e-4138-a591-33ccfdda5a34",
   "metadata": {},
   "outputs": [
    {
     "name": "stdout",
     "output_type": "stream",
     "text": [
      "Average F1 = 0.6543680178003948, Recall = 0.7392156862745097, Precision = 0.589622338754265\n"
     ]
    }
   ],
   "source": [
    "from sklearn.tree import DecisionTreeClassifier\n",
    "train_and_eval(df, model=DecisionTreeClassifier(), model_name=\"dt_all_features_smote\")"
   ]
  },
  {
   "cell_type": "markdown",
   "id": "a0bfa4a0-df75-420f-9644-626eedede09b",
   "metadata": {},
   "source": [
    "It does well! The recall is slightly worse but the precision is a lot higher. Let's go ahead and tune hyperparameters on both models to see if we can optimize things more. We will use random search as the models are pretty small, but for larger models I recommend checking out Bayesian optimization. [Optuna](https://optuna.org/) implements it fantastically with its TPE sampler. "
   ]
  },
  {
   "cell_type": "code",
   "execution_count": 66,
   "id": "f34691bd-0087-4ece-9479-7410fb784aa3",
   "metadata": {},
   "outputs": [],
   "source": [
    "from scipy.stats import loguniform\n",
    "# define search spaces\n",
    "lr_space = {\n",
    "    'solver': ['newton-cg', 'lbfgs', 'liblinear'], \n",
    "    'penalty': ['none', 'l1', 'l2', 'elasticnet'],\n",
    "    'C': loguniform(1e-5, 100)\n",
    "}\n",
    "# limit max_depth as prone to over-fitting\n",
    "dt_space = {'max_depth':[2,3,4,5], \n",
    "            'min_samples_leaf':[1,2,4,6,8,10,20,30],\n",
    "            'min_samples_split':[1,2,3,4,5,6,8,10],\n",
    "            'criterion': [\"gini\", \"entropy\"]\n",
    "           }"
   ]
  },
  {
   "cell_type": "code",
   "execution_count": 210,
   "id": "7d76a723-1b32-4186-a979-fc7e7596a300",
   "metadata": {},
   "outputs": [],
   "source": [
    "# random search to find best hyperparams\n",
    "from scipy.stats import loguniform\n",
    "from sklearn.model_selection import RepeatedStratifiedKFold\n",
    "from sklearn.model_selection import RandomizedSearchCV\n",
    "def hyperparameter_optim(df, model, params):\n",
    "    '''\n",
    "    Optimize hyperparameters for given model using random search \n",
    "    and stratified k fold cross validation\n",
    "    :param df: pandas dataframe\n",
    "    :param model: model to optimize\n",
    "    :param params: param dictionary to search\n",
    "    '''\n",
    "    # feature pipeline\n",
    "    features = feature_pipeline()\n",
    "    # target and features\n",
    "    x_train = features.fit_transform(df)\n",
    "    y_train = df['churn'].values\n",
    "    # smote\n",
    "    smt = SMOTE(random_state=42)\n",
    "    x_train, y_train = smt.fit_resample(x_train, y_train)\n",
    "    # define model\n",
    "    model = model\n",
    "    # define cross val.\n",
    "    cv = RepeatedStratifiedKFold(n_splits=5, n_repeats=3, random_state=1)\n",
    "    # define search\n",
    "    search = RandomizedSearchCV(model, params, n_iter=500, scoring='f1', n_jobs=-1, cv=cv, random_state=1)\n",
    "    # execute search\n",
    "    result = search.fit(x_train, y_train)\n",
    "    # summarize result\n",
    "    print('Best Score: %s' % result.best_score_)\n",
    "    print('Best Hyperparameters: %s' % result.best_params_)\n",
    "    \n",
    "# hyperparameter_optim(df, DecisionTreeClassifier(), dt_space)\n",
    "# hyperparameter_optim(df, LogisticRegression(), lr_space)"
   ]
  },
  {
   "cell_type": "markdown",
   "id": "5fcda03e-42eb-442f-b0dc-d2fa12ea8084",
   "metadata": {},
   "source": [
    "This gives us the following results:\n",
    "* **Logistic Regression** Best Hyperparameters: {'C': 68, 'penalty': 'l1', 'solver': 'liblinear'}\n",
    "* **Decision Tree** Best Hyperparameters: {'min_samples_split': 6, 'min_samples_leaf': 4, 'max_depth': 5, 'criterion': 'gini'}"
   ]
  },
  {
   "cell_type": "markdown",
   "id": "6dfd2237-2d60-4d3c-b2a4-fdbe692e9639",
   "metadata": {},
   "source": [
    "Let's train some model with these parameters and see what we get!"
   ]
  },
  {
   "cell_type": "code",
   "execution_count": 68,
   "id": "2f5041a6-b2f4-4f25-b07d-96af710f3a20",
   "metadata": {},
   "outputs": [
    {
     "name": "stdout",
     "output_type": "stream",
     "text": [
      "Average F1 = 0.5973957674491757, Recall = 0.8377591036414567, Precision = 0.46454578772672034\n"
     ]
    }
   ],
   "source": [
    "lr_params = {'C': 68, 'penalty': 'l1', 'solver': 'liblinear'}\n",
    "train_and_eval(df, model=LogisticRegression(**lr_params), model_name=\"lr_smote_tuned\", params=lr_params)"
   ]
  },
  {
   "cell_type": "code",
   "execution_count": 78,
   "id": "8006eed8-51af-4f95-9ffb-491839a2083e",
   "metadata": {},
   "outputs": [
    {
     "name": "stdout",
     "output_type": "stream",
     "text": [
      "Average F1 = 0.7188331504493051, Recall = 0.7391316526610645, Precision = 0.7043058129765436\n"
     ]
    }
   ],
   "source": [
    "dt_params = {'min_samples_split': 6, 'min_samples_leaf': 4, 'max_depth': 5, 'criterion': 'gini'}\n",
    "train_and_eval(df, model=DecisionTreeClassifier(**dt_params), model_name=\"dt_smote_tuned\", params=dt_params)"
   ]
  },
  {
   "cell_type": "markdown",
   "id": "2fffc089-905d-46cf-9929-257b040a8139",
   "metadata": {},
   "source": [
    "Great, so we now have two potential models. We are going to move forward with the decision tree model as the logistic regression model isn't quite up to scratch. We do however need to be careful, decision trees are very prone to overfitting and this is why random forest models are usually preferred. So make sure to always train in a cross-validated manor. The random forest can generalize over the data in a better way as the randomized feature selection acts as a form of regularization. As discussed earlier though, in our case we care more about interpretability than performance. \n",
    "\n",
    "Ok, so lets train a final model on the whole dataset using our hyperparams found earlier. We can then fine-tune the probability threshold so we can meet our target of a 0.70 recall while maximizing precision."
   ]
  },
  {
   "cell_type": "code",
   "execution_count": 211,
   "id": "acc98ebc-dc3c-419b-8ba8-50d52be73892",
   "metadata": {},
   "outputs": [],
   "source": [
    "def train_full(df, model, params):\n",
    "    \"\"\"\n",
    "    :param df: pandas dataframe containing our data\n",
    "    :param model: model to train data on\n",
    "    :param params: model hyperparameters\n",
    "    :return: f1, recall, precision validation score for fold, as well as y_valid and preds\n",
    "    \"\"\"\n",
    "    # feature pipeline\n",
    "    features = feature_pipeline()\n",
    "\n",
    "    # target and features\n",
    "    x_train = features.fit_transform(df)\n",
    "    y_train = df['churn'].values\n",
    "\n",
    "    smt = SMOTE(random_state=42)\n",
    "    x_train, y_train = smt.fit_resample(x_train, y_train)\n",
    "\n",
    "    # create and train model\n",
    "    clf = model(**params)\n",
    "    clf.fit(x_train, y_train)\n",
    "    return clf, features"
   ]
  },
  {
   "cell_type": "code",
   "execution_count": 108,
   "id": "7c660c42-ca47-45e0-ad93-3b2c4abfd825",
   "metadata": {},
   "outputs": [],
   "source": [
    "clf, features = train_full(df=df, model=DecisionTreeClassifier, params=dt_params)"
   ]
  },
  {
   "cell_type": "markdown",
   "id": "11f2c584-e50d-4e7d-8cf1-b4164dd9d969",
   "metadata": {},
   "source": [
    "We can now tune the probability threshold to try and optimize our precision recall trade-off, we will do this in a cross-validated manor. Let's plot a precision recall curve and find the optimal threshold to achieve 70% recall."
   ]
  },
  {
   "cell_type": "code",
   "execution_count": 212,
   "id": "e8737bdb-08b5-474b-978d-4b1d03c10f50",
   "metadata": {},
   "outputs": [
    {
     "data": {
      "image/png": "[encoded data removed]",
      "text/plain": [
       "<Figure size 432x288 with 1 Axes>"
      ]
     },
     "metadata": {},
     "output_type": "display_data"
    }
   ],
   "source": [
    "from sklearn.metrics import PrecisionRecallDisplay\n",
    "# training data\n",
    "x_train = features.transform(df)\n",
    "y_train = df['churn'].values\n",
    "# precision recall curve\n",
    "display = PrecisionRecallDisplay.from_estimator(\n",
    "    clf, x_train, y_train, name=\"Decision tree classifier\"\n",
    ")\n",
    "_ = display.ax_.set_title(\"Precision-Recall curve\")"
   ]
  },
  {
   "cell_type": "code",
   "execution_count": 213,
   "id": "e0526ecd-aba7-45c4-a554-ae55d7feffd1",
   "metadata": {},
   "outputs": [
    {
     "name": "stdout",
     "output_type": "stream",
     "text": [
      "0.7166696621135873\n"
     ]
    }
   ],
   "source": [
    "from sklearn.metrics import precision_recall_curve\n",
    "def optimize_threshold(clf, df, recall = 0.70):\n",
    "    '''\n",
    "    Uses cross-validation to optimize prob. threshold for required task\n",
    "    :param clf: model to optimize\n",
    "    :param df: training data with kfold col\n",
    "    :param recall: desired recall \n",
    "    :return: optimal prob. threshold\n",
    "    '''\n",
    "    threshs = []\n",
    "    # loop over each fold\n",
    "    for fold in range(5):\n",
    "        # define train and validation set\n",
    "        df_train = df[df.kfold != fold].reset_index(drop=True)\n",
    "        df_valid = df[df.kfold == fold].reset_index(drop=True)\n",
    "        # target and features\n",
    "        y_train = df_train['churn'].values\n",
    "        y_valid = df_valid['churn'].values\n",
    "        # fit model on training data \n",
    "        clf, features = train_full(df=df_train, model=DecisionTreeClassifier, params=dt_params)\n",
    "        # get scores for valid data\n",
    "        x_valid = features.transform(df_valid)\n",
    "        y_scores = clf.predict_proba(x_valid)[:, 1]\n",
    "        # locate where recall is closest to 0.70\n",
    "        precisions, recalls, thresholds = precision_recall_curve(y_valid, y_scores)\n",
    "        distance_to_optim = abs(recalls - recall)\n",
    "        optimal_idx = np.argmin(distance_to_optim)\n",
    "        threshs.append(thresholds[optimal_idx])\n",
    "    # average optimal thresh across all folds\n",
    "    return np.average(threshs)\n",
    "\n",
    "thresh = optimize_threshold(clf, df)\n",
    "print(thresh)"
   ]
  },
  {
   "cell_type": "markdown",
   "id": "d152ec15-ab91-4c6c-8c5e-490bd1f7e2c8",
   "metadata": {},
   "source": [
    "We can now write a general predict function that will predict on any new data and only classify as a positive sample when the probability is greater than 0.71. We can then predict on unseen test data to see how we did!"
   ]
  },
  {
   "cell_type": "code",
   "execution_count": 217,
   "id": "4f844f0e-57f9-4f6a-a626-f71e3a5a23bd",
   "metadata": {},
   "outputs": [
    {
     "name": "stdout",
     "output_type": "stream",
     "text": [
      "Average F1 = 0.7190082644628099, Recall = 0.696, Precision = 0.7435897435897436\n"
     ]
    }
   ],
   "source": [
    "def predict(X, clf, feature_pipeline, thresh=0.71):\n",
    "    '''\n",
    "    Predict on new data \n",
    "    :param X: data containing features\n",
    "    :param clf: trained model\n",
    "    :param feature_pipeline: trained feature processing pipeline\n",
    "    :param thresh: prediction threshold\n",
    "    :return: predictions\n",
    "    '''\n",
    "    X = feature_pipeline.transform(X)\n",
    "    preds = (clf.predict_proba(X)[:,1] >= thresh).astype(int)\n",
    "    return preds\n",
    "\n",
    "# train full model \n",
    "clf, features = train_full(df=df, model=DecisionTreeClassifier, params=dt_params)\n",
    "\n",
    "# load in test data and score\n",
    "df_test = pd.read_csv(\"data/external/test.csv\")\n",
    "# target mapping\n",
    "target_mapping = {\"no\": 0, \"yes\": 1}\n",
    "df_test.loc[:, 'churn'] = df_test['churn'].map(target_mapping)\n",
    "y_test = df_test['churn'].values\n",
    "# predict on unseen data\n",
    "preds = predict(df_test, clf, features)\n",
    "# score\n",
    "f1, recall, precision = score(y_test, preds)\n",
    "print(f\"Average F1 = {f1}, Recall = {recall}, Precision = {precision}\")"
   ]
  },
  {
   "cell_type": "markdown",
   "id": "b9626e0b-d014-47bf-a82b-c3a2e226285c",
   "metadata": {},
   "source": [
    "Perfect, we have achieved the desired recall! It's also nice to see the F1 and precision scores so similar to the cross-validation scores as it shows we haven't overfitted our model! Let's upload this model to mlflow and then finish by looking at interpreting the model."
   ]
  },
  {
   "cell_type": "code",
   "execution_count": 207,
   "id": "e9b8838b-fa2a-4e93-b049-a4ffd97e96b1",
   "metadata": {},
   "outputs": [],
   "source": [
    "# log metrics on mlflow \n",
    "with mlflow.start_run(run_name=\"Final DT Model\") as mlops_run:\n",
    "        mlflow.log_metric(\"F1\", f1)\n",
    "        mlflow.log_metric(\"Recall\", recall)\n",
    "        mlflow.log_metric(\"Preision\", precision)\n",
    "        mlflow.log_params(dt_params)\n",
    "        mlflow.log_params({\"prob_thresh\": 0.71})\n",
    "        # log model and pipeline\n",
    "        mlflow.sklearn.log_model(clf, \"final_model\")\n",
    "        mlflow.sklearn.log_model(features, \"features_pipeline\")\n",
    "        "
   ]
  },
  {
   "cell_type": "code",
   "execution_count": 209,
   "id": "46eb15d8-0ede-4339-816f-2f7a86f6124f",
   "metadata": {},
   "outputs": [],
   "source": [
    "# import pickle\n",
    "\n",
    "# with open('models/final_DT_model.pickle', 'wb') as f:\n",
    "#     pickle.dump(clf, f)\n",
    "\n",
    "# with open('models/feature_pipeline.pickle', 'wb') as f:\n",
    "#     pickle.dump(features, f)"
   ]
  },
  {
   "cell_type": "markdown",
   "id": "3b5bbc03-412d-460a-a199-349e372bea77",
   "metadata": {},
   "source": [
    "#### MLFLOW Experiment Session\n",
    "<img src=\"data/blog_content/mlflow.png\"/>"
   ]
  },
  {
   "cell_type": "markdown",
   "id": "ef88d16b-a20c-4b9a-bac6-b8dce30fde67",
   "metadata": {},
   "source": [
    "## Model Interpreting "
   ]
  }
 ],
 "metadata": {
  "kernelspec": {
   "display_name": "Python 3 (ipykernel)",
   "language": "python",
   "name": "python3"
  },
  "language_info": {
   "codemirror_mode": {
    "name": "ipython",
    "version": 3
   },
   "file_extension": ".py",
   "mimetype": "text/x-python",
   "name": "python",
   "nbconvert_exporter": "python",
   "pygments_lexer": "ipython3",
   "version": "3.9.7"
  }
 },
 "nbformat": 4,
 "nbformat_minor": 5
}
