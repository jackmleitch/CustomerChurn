{
 "cells": [
  {
   "cell_type": "markdown",
   "id": "b78bfcea-7782-4603-adbd-6e3fe4701918",
   "metadata": {
    "tags": []
   },
   "source": [
    "# Building Interpretable Models on Imbalanced Data\n",
    "## Predicting customer churn from a telecom provider "
   ]
  },
  {
   "cell_type": "markdown",
   "id": "e3b42f99-fb6d-42cf-980d-884f94573134",
   "metadata": {},
   "source": [
    "I've always believed that to truely learn data science you need to practice data science and I wanted to do this project to practice working with imbalanced classes in classification problems. This was also a perfect oppurtinity to start working with [mlflow](https://mlflow.org/) to help track my machine learning experiments: it allows me to track the different models i've used, the parameters i've training with, and the metrics i've recorded."
   ]
  },
  {
   "cell_type": "markdown",
   "id": "fb7366cb-59e7-4800-96d4-231713218146",
   "metadata": {},
   "source": [
    "This project was aimed at predicting customer churn using the teleccomunications data found on [Kaggle](https://www.kaggle.com/c/customer-churn-prediction-2020/overview). That is, we want to be able to predict if a given customer is going the leave the telecom provider based on the infromation we have on that customer. Now why is this useful? Well, if we can predict which customers we think are going to leave **before** they actually leave then we can try to do something about it! For example, we could target them with specific offers, and maybe we could even use the model to provide us insight into what to offer them because we will know, or at least have an idea, as to why they are leaving. "
   ]
  },
  {
   "cell_type": "markdown",
   "id": "7ac10b3c-b6e4-4fcf-b18c-b8698d091304",
   "metadata": {},
   "source": [
    "## Performance vs Interpretability \n",
    "It's very important to know and understand the problem/task at hand before we start to even think about writing any code. Would it be useful in this case to build a really powerful model like XGBOOST? No, of course not. Our goal isn't to squeeze every drop of performance out of our model. Our goal is to **understand** why people are leaving so we can actually do something about it and try to get them to stay. In an ideal world we would build a very interpretable model, but in reality we may have to find a happy medium between performance and interpretability. As always, logistic regression would be a good start."
   ]
  },
  {
   "cell_type": "markdown",
   "id": "18fa07ae-9c0a-479f-82e5-063fd81c565f",
   "metadata": {
    "tags": []
   },
   "source": [
    "## Model Evaluation\n",
    "We now need to decide how we are going to evaluate our models and what we are going to be happy with. Personally, I think it's important to decide an end goal beforehand as otherwise it's going to be hard to decide when to stop, squeezing out those extra 1%s is not worth it a lot of the time.\n",
    "\n",
    "Due to the nature of our data it is likely that our classes are going to be highly imbalanced, with the case we are interested in (customers leaving) being the minority class. This makes selecting the right metric super important.\n",
    "\n",
    "<img src=\"data/blog_content/class_imbalance_meme.jpg\" width=\"300\" align=\"center\"/>\n",
    "    \n",
    "The metrics we are going to be interested in are **precision**, **recall**, and other metrics associated with these. Precision is the ratio of correct positive predictions to the overall number of positive predictions. Recall is the ratio of correct positive predictions to the overall number of positive predictions in the dataset. \n",
    "In our case we are looking at trying to retain customers by predicting which customers are going to leave: so we aren't too fussed if we miss-classify some customers as 'churn' when they are not (false positives). If anything, these miss-classifications might be customers that would soon become 'churn' if nothing changes as they may lie on the edge of the decision boundary. So, we are looking to **maximize recall** as it will minimize the number of false negatives. \n",
    "\n",
    "We are also going to look at the **F-measure** as it provides a way to express both concerns of precision and recall with a single score - we don't just want to forfeit precision to get 100% recall!\n",
    "\n",
    "### Model Specifications\n",
    "Once we have built our final model, we can then use a precision-recall curve to optimize our performance of on the positive (minority class). In this case we are going to assume that stakeholders in our imaginary telecoms business want to **achieve a recall of 0.80** (i.e. we identify 80% of the positive samples correctly) while maximizing precision. \n"
   ]
  },
  {
   "cell_type": "markdown",
   "id": "95c90c9e-a05f-4150-befc-3bc4356a788d",
   "metadata": {},
   "source": [
    "## Data\n",
    "* train.csv - the training set. Contains 4250 rows with 20 columns. 3652 samples (85.93%) belong to class churn=no and 598 samples (14.07%) belong to class churn=yes.\n",
    "* test.csv - the test set. Contains 850 rows with 18 columns.\n",
    "\n",
    "The 20 columns contain the following information:\n",
    "* **state**, string. 2-letter code of the US state of customer residence\n",
    "* **account_length**, numerical. Number of months the customer has been with the current telcom provider\n",
    "* **area_code**, string=\"area_code_AAA\" where AAA = 3 digit area code.\n",
    "* **international_plan**, (yes/no). The customer has international plan.\n",
    "* **voice_mail_plan**, (yes/no). The customer has voice mail plan.\n",
    "* **number_vmail_messages**, numerical. Number of voice-mail messages.\n",
    "* **total_a_b** with **a = (day, eve, night, intl)** and **b = (minutes, calls, charge)**, numerical. Total (minutes, calls, charge) of (day, eve, night, intl) calls.\n",
    "* **number_customer_service_calls**, numerical. Number of calls to customer service\n",
    "* **churn**, (yes/no). Customer churn - target variable."
   ]
  },
  {
   "cell_type": "code",
   "execution_count": 2,
   "id": "501d5d1a-0945-40e5-87fe-e7e9e31348c2",
   "metadata": {},
   "outputs": [],
   "source": [
    "import pandas as pd\n",
    "from src.data.load_data import read_params\n",
    "# load in training data \n",
    "config = read_params(\"params.yaml\")\n",
    "external_data_path = config[\"external_data_config\"][\"external_data_csv\"]\n",
    "df = pd.read_csv(external_data_path, sep=\",\", encoding=\"utf-8\")\n",
    "# check we have our 20 cols\n",
    "assert len(df.columns) == 20"
   ]
  },
  {
   "cell_type": "markdown",
   "id": "335b89c6-f205-4a12-93e6-00ea23fb3362",
   "metadata": {},
   "source": [
    "EDA (along with the all the modeling etc.) was done in different python scripts and I have chosen to not include it here as it is irrelevant to the topic I am writing about. It is nonetheless very important and you can find this whole project on my [Github page](https://github.com/jackmleitch/CustomerChurn). \n",
    "\n",
    "\n",
    "Due to the high cardinality of the state columns we need to be careful when encoding them otherwise we will end up with 50 different features!"
   ]
  },
  {
   "cell_type": "code",
   "execution_count": 3,
   "id": "45cea395-4aba-4055-a376-b0d005219b6c",
   "metadata": {},
   "outputs": [
    {
     "data": {
      "text/html": [
       "<div>\n",
       "<style scoped>\n",
       "    .dataframe tbody tr th:only-of-type {\n",
       "        vertical-align: middle;\n",
       "    }\n",
       "\n",
       "    .dataframe tbody tr th {\n",
       "        vertical-align: top;\n",
       "    }\n",
       "\n",
       "    .dataframe thead th {\n",
       "        text-align: right;\n",
       "    }\n",
       "</style>\n",
       "<table border=\"1\" class=\"dataframe\">\n",
       "  <thead>\n",
       "    <tr style=\"text-align: right;\">\n",
       "      <th></th>\n",
       "      <th>state</th>\n",
       "      <th>account_length</th>\n",
       "      <th>area_code</th>\n",
       "      <th>international_plan</th>\n",
       "      <th>voice_mail_plan</th>\n",
       "      <th>number_vmail_messages</th>\n",
       "      <th>total_day_minutes</th>\n",
       "      <th>total_day_calls</th>\n",
       "      <th>total_day_charge</th>\n",
       "      <th>total_eve_minutes</th>\n",
       "      <th>total_eve_calls</th>\n",
       "      <th>total_eve_charge</th>\n",
       "      <th>total_night_minutes</th>\n",
       "      <th>total_night_calls</th>\n",
       "      <th>total_night_charge</th>\n",
       "      <th>total_intl_minutes</th>\n",
       "      <th>total_intl_calls</th>\n",
       "      <th>total_intl_charge</th>\n",
       "      <th>number_customer_service_calls</th>\n",
       "      <th>churn</th>\n",
       "    </tr>\n",
       "  </thead>\n",
       "  <tbody>\n",
       "    <tr>\n",
       "      <th>0</th>\n",
       "      <td>OH</td>\n",
       "      <td>107</td>\n",
       "      <td>area_code_415</td>\n",
       "      <td>no</td>\n",
       "      <td>yes</td>\n",
       "      <td>26</td>\n",
       "      <td>161.6</td>\n",
       "      <td>123</td>\n",
       "      <td>27.47</td>\n",
       "      <td>195.5</td>\n",
       "      <td>103</td>\n",
       "      <td>16.62</td>\n",
       "      <td>254.4</td>\n",
       "      <td>103</td>\n",
       "      <td>11.45</td>\n",
       "      <td>13.7</td>\n",
       "      <td>3</td>\n",
       "      <td>3.70</td>\n",
       "      <td>1</td>\n",
       "      <td>no</td>\n",
       "    </tr>\n",
       "    <tr>\n",
       "      <th>1</th>\n",
       "      <td>NJ</td>\n",
       "      <td>137</td>\n",
       "      <td>area_code_415</td>\n",
       "      <td>no</td>\n",
       "      <td>no</td>\n",
       "      <td>0</td>\n",
       "      <td>243.4</td>\n",
       "      <td>114</td>\n",
       "      <td>41.38</td>\n",
       "      <td>121.2</td>\n",
       "      <td>110</td>\n",
       "      <td>10.30</td>\n",
       "      <td>162.6</td>\n",
       "      <td>104</td>\n",
       "      <td>7.32</td>\n",
       "      <td>12.2</td>\n",
       "      <td>5</td>\n",
       "      <td>3.29</td>\n",
       "      <td>0</td>\n",
       "      <td>no</td>\n",
       "    </tr>\n",
       "    <tr>\n",
       "      <th>2</th>\n",
       "      <td>OH</td>\n",
       "      <td>84</td>\n",
       "      <td>area_code_408</td>\n",
       "      <td>yes</td>\n",
       "      <td>no</td>\n",
       "      <td>0</td>\n",
       "      <td>299.4</td>\n",
       "      <td>71</td>\n",
       "      <td>50.90</td>\n",
       "      <td>61.9</td>\n",
       "      <td>88</td>\n",
       "      <td>5.26</td>\n",
       "      <td>196.9</td>\n",
       "      <td>89</td>\n",
       "      <td>8.86</td>\n",
       "      <td>6.6</td>\n",
       "      <td>7</td>\n",
       "      <td>1.78</td>\n",
       "      <td>2</td>\n",
       "      <td>no</td>\n",
       "    </tr>\n",
       "    <tr>\n",
       "      <th>3</th>\n",
       "      <td>OK</td>\n",
       "      <td>75</td>\n",
       "      <td>area_code_415</td>\n",
       "      <td>yes</td>\n",
       "      <td>no</td>\n",
       "      <td>0</td>\n",
       "      <td>166.7</td>\n",
       "      <td>113</td>\n",
       "      <td>28.34</td>\n",
       "      <td>148.3</td>\n",
       "      <td>122</td>\n",
       "      <td>12.61</td>\n",
       "      <td>186.9</td>\n",
       "      <td>121</td>\n",
       "      <td>8.41</td>\n",
       "      <td>10.1</td>\n",
       "      <td>3</td>\n",
       "      <td>2.73</td>\n",
       "      <td>3</td>\n",
       "      <td>no</td>\n",
       "    </tr>\n",
       "    <tr>\n",
       "      <th>4</th>\n",
       "      <td>MA</td>\n",
       "      <td>121</td>\n",
       "      <td>area_code_510</td>\n",
       "      <td>no</td>\n",
       "      <td>yes</td>\n",
       "      <td>24</td>\n",
       "      <td>218.2</td>\n",
       "      <td>88</td>\n",
       "      <td>37.09</td>\n",
       "      <td>348.5</td>\n",
       "      <td>108</td>\n",
       "      <td>29.62</td>\n",
       "      <td>212.6</td>\n",
       "      <td>118</td>\n",
       "      <td>9.57</td>\n",
       "      <td>7.5</td>\n",
       "      <td>7</td>\n",
       "      <td>2.03</td>\n",
       "      <td>3</td>\n",
       "      <td>no</td>\n",
       "    </tr>\n",
       "  </tbody>\n",
       "</table>\n",
       "</div>"
      ],
      "text/plain": [
       "  state  account_length      area_code international_plan voice_mail_plan  \\\n",
       "0    OH             107  area_code_415                 no             yes   \n",
       "1    NJ             137  area_code_415                 no              no   \n",
       "2    OH              84  area_code_408                yes              no   \n",
       "3    OK              75  area_code_415                yes              no   \n",
       "4    MA             121  area_code_510                 no             yes   \n",
       "\n",
       "   number_vmail_messages  total_day_minutes  total_day_calls  \\\n",
       "0                     26              161.6              123   \n",
       "1                      0              243.4              114   \n",
       "2                      0              299.4               71   \n",
       "3                      0              166.7              113   \n",
       "4                     24              218.2               88   \n",
       "\n",
       "   total_day_charge  total_eve_minutes  total_eve_calls  total_eve_charge  \\\n",
       "0             27.47              195.5              103             16.62   \n",
       "1             41.38              121.2              110             10.30   \n",
       "2             50.90               61.9               88              5.26   \n",
       "3             28.34              148.3              122             12.61   \n",
       "4             37.09              348.5              108             29.62   \n",
       "\n",
       "   total_night_minutes  total_night_calls  total_night_charge  \\\n",
       "0                254.4                103               11.45   \n",
       "1                162.6                104                7.32   \n",
       "2                196.9                 89                8.86   \n",
       "3                186.9                121                8.41   \n",
       "4                212.6                118                9.57   \n",
       "\n",
       "   total_intl_minutes  total_intl_calls  total_intl_charge  \\\n",
       "0                13.7                 3               3.70   \n",
       "1                12.2                 5               3.29   \n",
       "2                 6.6                 7               1.78   \n",
       "3                10.1                 3               2.73   \n",
       "4                 7.5                 7               2.03   \n",
       "\n",
       "   number_customer_service_calls churn  \n",
       "0                              1    no  \n",
       "1                              0    no  \n",
       "2                              2    no  \n",
       "3                              3    no  \n",
       "4                              3    no  "
      ]
     },
     "execution_count": 3,
     "metadata": {},
     "output_type": "execute_result"
    }
   ],
   "source": [
    "df.head()"
   ]
  },
  {
   "cell_type": "markdown",
   "id": "fe03113c-28b9-4a93-aab6-b64bbe2fab39",
   "metadata": {},
   "source": [
    "We can look at a correlation matrix to see any initial promising features."
   ]
  },
  {
   "cell_type": "code",
   "execution_count": 4,
   "id": "eedeaa08-7ccf-4a17-895c-d00af00c3fa9",
   "metadata": {},
   "outputs": [
    {
     "data": {
      "text/plain": [
       "<AxesSubplot:>"
      ]
     },
     "execution_count": 4,
     "metadata": {},
     "output_type": "execute_result"
    },
    {
     "data": {
      "image/png": "[encoded data removed]",
      "text/plain": [
       "<Figure size 792x648 with 2 Axes>"
      ]
     },
     "metadata": {},
     "output_type": "display_data"
    }
   ],
   "source": [
    "import numpy as np\n",
    "import seaborn as sns\n",
    "import matplotlib.pyplot as plt\n",
    "sns.set_theme(style=\"white\")\n",
    "# Compute the correlation matrix\n",
    "corr = df.corr()\n",
    "# Generate a mask for the upper triangle\n",
    "mask = np.triu(np.ones_like(corr, dtype=bool))\n",
    "# Set up the matplotlib figure\n",
    "f, ax = plt.subplots(figsize=(11, 9))\n",
    "# Generate a custom diverging colormap\n",
    "cmap = sns.diverging_palette(230, 20, as_cmap=True)\n",
    "# Draw the heatmap with the mask and correct aspect ratio\n",
    "sns.heatmap(corr, mask=mask, cmap=cmap, vmax=.3, center=0,\n",
    "            square=True, linewidths=.5, cbar_kws={\"shrink\": .5})"
   ]
  },
  {
   "cell_type": "markdown",
   "id": "d07fb566-1793-498c-8a67-b8b36f683fd4",
   "metadata": {},
   "source": [
    "Ok, this doesn't look great but we can see that churn is somewhat correlated with total_day_minutes, total_day_charge, and number_customer_service_calls. Let's build a simple **baseline model** with total_day_minutes and number_customer_service_calls (we omit total_day_charge because it's strongly correlated with total_day_minutes)."
   ]
  },
  {
   "cell_type": "markdown",
   "id": "0517895b-622a-4e97-9a6e-ee0fe42801eb",
   "metadata": {},
   "source": [
    "### Feature Engineering\n",
    "We can generate a few features to encapsulate daily totals. We also map the state feature to the regions the state belongs to as it massively reduces the feature dimensionality. Finally, we can map churn target value to binary as this is required for a lot of models. "
   ]
  },
  {
   "cell_type": "code",
   "execution_count": 5,
   "id": "dd442ea0-1325-454d-9f85-b0929124e2ce",
   "metadata": {},
   "outputs": [
    {
     "data": {
      "text/html": [
       "<div>\n",
       "<style scoped>\n",
       "    .dataframe tbody tr th:only-of-type {\n",
       "        vertical-align: middle;\n",
       "    }\n",
       "\n",
       "    .dataframe tbody tr th {\n",
       "        vertical-align: top;\n",
       "    }\n",
       "\n",
       "    .dataframe thead th {\n",
       "        text-align: right;\n",
       "    }\n",
       "</style>\n",
       "<table border=\"1\" class=\"dataframe\">\n",
       "  <thead>\n",
       "    <tr style=\"text-align: right;\">\n",
       "      <th></th>\n",
       "      <th>state</th>\n",
       "      <th>account_length</th>\n",
       "      <th>area_code</th>\n",
       "      <th>international_plan</th>\n",
       "      <th>voice_mail_plan</th>\n",
       "      <th>number_vmail_messages</th>\n",
       "      <th>total_day_minutes</th>\n",
       "      <th>total_day_calls</th>\n",
       "      <th>total_day_charge</th>\n",
       "      <th>total_eve_minutes</th>\n",
       "      <th>...</th>\n",
       "      <th>total_night_calls</th>\n",
       "      <th>total_night_charge</th>\n",
       "      <th>total_intl_minutes</th>\n",
       "      <th>total_intl_calls</th>\n",
       "      <th>total_intl_charge</th>\n",
       "      <th>number_customer_service_calls</th>\n",
       "      <th>churn</th>\n",
       "      <th>total_minutes</th>\n",
       "      <th>total_calls</th>\n",
       "      <th>total_charge</th>\n",
       "    </tr>\n",
       "  </thead>\n",
       "  <tbody>\n",
       "    <tr>\n",
       "      <th>0</th>\n",
       "      <td>M</td>\n",
       "      <td>107</td>\n",
       "      <td>area_code_415</td>\n",
       "      <td>no</td>\n",
       "      <td>yes</td>\n",
       "      <td>26</td>\n",
       "      <td>161.6</td>\n",
       "      <td>123</td>\n",
       "      <td>27.47</td>\n",
       "      <td>195.5</td>\n",
       "      <td>...</td>\n",
       "      <td>103</td>\n",
       "      <td>11.45</td>\n",
       "      <td>13.7</td>\n",
       "      <td>3</td>\n",
       "      <td>3.70</td>\n",
       "      <td>1</td>\n",
       "      <td>0</td>\n",
       "      <td>611.5</td>\n",
       "      <td>329</td>\n",
       "      <td>55.54</td>\n",
       "    </tr>\n",
       "    <tr>\n",
       "      <th>1</th>\n",
       "      <td>N</td>\n",
       "      <td>137</td>\n",
       "      <td>area_code_415</td>\n",
       "      <td>no</td>\n",
       "      <td>no</td>\n",
       "      <td>0</td>\n",
       "      <td>243.4</td>\n",
       "      <td>114</td>\n",
       "      <td>41.38</td>\n",
       "      <td>121.2</td>\n",
       "      <td>...</td>\n",
       "      <td>104</td>\n",
       "      <td>7.32</td>\n",
       "      <td>12.2</td>\n",
       "      <td>5</td>\n",
       "      <td>3.29</td>\n",
       "      <td>0</td>\n",
       "      <td>0</td>\n",
       "      <td>527.2</td>\n",
       "      <td>328</td>\n",
       "      <td>59.00</td>\n",
       "    </tr>\n",
       "    <tr>\n",
       "      <th>2</th>\n",
       "      <td>M</td>\n",
       "      <td>84</td>\n",
       "      <td>area_code_408</td>\n",
       "      <td>yes</td>\n",
       "      <td>no</td>\n",
       "      <td>0</td>\n",
       "      <td>299.4</td>\n",
       "      <td>71</td>\n",
       "      <td>50.90</td>\n",
       "      <td>61.9</td>\n",
       "      <td>...</td>\n",
       "      <td>89</td>\n",
       "      <td>8.86</td>\n",
       "      <td>6.6</td>\n",
       "      <td>7</td>\n",
       "      <td>1.78</td>\n",
       "      <td>2</td>\n",
       "      <td>0</td>\n",
       "      <td>558.2</td>\n",
       "      <td>248</td>\n",
       "      <td>65.02</td>\n",
       "    </tr>\n",
       "    <tr>\n",
       "      <th>3</th>\n",
       "      <td>S</td>\n",
       "      <td>75</td>\n",
       "      <td>area_code_415</td>\n",
       "      <td>yes</td>\n",
       "      <td>no</td>\n",
       "      <td>0</td>\n",
       "      <td>166.7</td>\n",
       "      <td>113</td>\n",
       "      <td>28.34</td>\n",
       "      <td>148.3</td>\n",
       "      <td>...</td>\n",
       "      <td>121</td>\n",
       "      <td>8.41</td>\n",
       "      <td>10.1</td>\n",
       "      <td>3</td>\n",
       "      <td>2.73</td>\n",
       "      <td>3</td>\n",
       "      <td>0</td>\n",
       "      <td>501.9</td>\n",
       "      <td>356</td>\n",
       "      <td>49.36</td>\n",
       "    </tr>\n",
       "    <tr>\n",
       "      <th>4</th>\n",
       "      <td>N</td>\n",
       "      <td>121</td>\n",
       "      <td>area_code_510</td>\n",
       "      <td>no</td>\n",
       "      <td>yes</td>\n",
       "      <td>24</td>\n",
       "      <td>218.2</td>\n",
       "      <td>88</td>\n",
       "      <td>37.09</td>\n",
       "      <td>348.5</td>\n",
       "      <td>...</td>\n",
       "      <td>118</td>\n",
       "      <td>9.57</td>\n",
       "      <td>7.5</td>\n",
       "      <td>7</td>\n",
       "      <td>2.03</td>\n",
       "      <td>3</td>\n",
       "      <td>0</td>\n",
       "      <td>779.3</td>\n",
       "      <td>314</td>\n",
       "      <td>76.28</td>\n",
       "    </tr>\n",
       "  </tbody>\n",
       "</table>\n",
       "<p>5 rows × 23 columns</p>\n",
       "</div>"
      ],
      "text/plain": [
       "  state  account_length      area_code international_plan voice_mail_plan  \\\n",
       "0     M             107  area_code_415                 no             yes   \n",
       "1     N             137  area_code_415                 no              no   \n",
       "2     M              84  area_code_408                yes              no   \n",
       "3     S              75  area_code_415                yes              no   \n",
       "4     N             121  area_code_510                 no             yes   \n",
       "\n",
       "   number_vmail_messages  total_day_minutes  total_day_calls  \\\n",
       "0                     26              161.6              123   \n",
       "1                      0              243.4              114   \n",
       "2                      0              299.4               71   \n",
       "3                      0              166.7              113   \n",
       "4                     24              218.2               88   \n",
       "\n",
       "   total_day_charge  total_eve_minutes  ...  total_night_calls  \\\n",
       "0             27.47              195.5  ...                103   \n",
       "1             41.38              121.2  ...                104   \n",
       "2             50.90               61.9  ...                 89   \n",
       "3             28.34              148.3  ...                121   \n",
       "4             37.09              348.5  ...                118   \n",
       "\n",
       "   total_night_charge  total_intl_minutes  total_intl_calls  \\\n",
       "0               11.45                13.7                 3   \n",
       "1                7.32                12.2                 5   \n",
       "2                8.86                 6.6                 7   \n",
       "3                8.41                10.1                 3   \n",
       "4                9.57                 7.5                 7   \n",
       "\n",
       "   total_intl_charge  number_customer_service_calls  churn  total_minutes  \\\n",
       "0               3.70                              1      0          611.5   \n",
       "1               3.29                              0      0          527.2   \n",
       "2               1.78                              2      0          558.2   \n",
       "3               2.73                              3      0          501.9   \n",
       "4               2.03                              3      0          779.3   \n",
       "\n",
       "   total_calls  total_charge  \n",
       "0          329         55.54  \n",
       "1          328         59.00  \n",
       "2          248         65.02  \n",
       "3          356         49.36  \n",
       "4          314         76.28  \n",
       "\n",
       "[5 rows x 23 columns]"
      ]
     },
     "execution_count": 5,
     "metadata": {},
     "output_type": "execute_result"
    }
   ],
   "source": [
    "def preprocess(df):\n",
    "    # add new features\n",
    "    df['total_minutes'] = df['total_day_minutes'] + df['total_eve_minutes'] + df['total_night_minutes']\n",
    "    df['total_calls'] = df['total_day_calls'] + df['total_eve_calls'] + df['total_night_calls']\n",
    "    df['total_charge'] = df['total_day_charge'] + df['total_eve_charge'] + df['total_night_charge'] \n",
    "    # target mapping\n",
    "    target_mapping = {\"no\": 0, \"yes\": 1}\n",
    "    df.loc[:, 'churn'] = df['churn'].map(target_mapping)\n",
    "    # map state \n",
    "    state_mapping = {\n",
    "        'AK': 'O', 'AL': 'S', 'AR': 'S', 'AS': 'O', 'AZ': 'W', 'CA': 'W', 'CO': 'W', 'CT': 'N', 'DC': 'N', 'DE': 'N', 'FL': 'S', 'GA': 'S',\n",
    "        'GU': 'O', 'HI': 'O', 'IA': 'M', 'ID': 'W', 'IL': 'M', 'IN': 'M', 'KS': 'M', 'KY': 'S', 'LA': 'S', 'MA': 'N', 'MD': 'N', 'ME': 'N',\n",
    "        'MI': 'W', 'MN': 'M', 'MO': 'M', 'MP': 'O', 'MS': 'S', 'MT': 'W', 'NA': 'O',  'NC': 'S', 'ND': 'M', 'NE': 'W', 'NH': 'N', 'NJ': 'N',\n",
    "        'NM': 'W', 'NV': 'W', 'NY': 'N', 'OH': 'M', 'OK': 'S', 'OR': 'W', 'PA': 'N', 'PR': 'O', 'RI': 'N', 'SC': 'S', 'SD': 'M', 'TN': 'S', \n",
    "        'TX': 'S', 'UT': 'W', 'VA': 'S', 'VI': 'O', 'VT': 'N', 'WA': 'W', 'WI': 'M', 'WV': 'S', 'WY': 'W'\n",
    "    }\n",
    "    df.loc[:, 'state'] = df['state'].map(state_mapping)\n",
    "    return df\n",
    "# preprocess dataframe and add features\n",
    "df = preprocess(df)\n",
    "df.head()"
   ]
  },
  {
   "cell_type": "markdown",
   "id": "2f08d9f0-49d3-471b-8b3b-7a33a776dbf6",
   "metadata": {},
   "source": [
    "## Modeling   \n",
    "The first thing that always needs to be done is to split the data into train and validation sets as it is a vital step to avoid overfitting, improve generalizability, and it helps us compare potential models. In this case we use stratified K-fold cross-validation as our dataset is highly imbalanced and we want to ensure the class distribution is consistent across folds. "
   ]
  },
  {
   "cell_type": "code",
   "execution_count": 6,
   "id": "84a27b5d-f5bd-43e8-9954-07d0d36dc49c",
   "metadata": {},
   "outputs": [],
   "source": [
    "from sklearn.model_selection import StratifiedKFold\n",
    "\n",
    "def stratKFold(df, n_splits=5):\n",
    "    \"\"\"\n",
    "    Perform stratified K fold cross validation on training set\n",
    "    :param df: pd dataframe to split\n",
    "    :param n_splits: number of folds \n",
    "    :return: df with kfold column\n",
    "    \"\"\"\n",
    "    # create new column 'kfold' with val -1\n",
    "    df[\"kfold\"] = -1\n",
    "    df = df.sample(frac=1, random_state=42).reset_index(drop=True)\n",
    "    # target values\n",
    "    y = df['churn'].values\n",
    "    # initialise kfold class\n",
    "    kf = StratifiedKFold(n_splits=n_splits)\n",
    "    for f, (t_, v_) in enumerate(kf.split(X=df, y=y)):\n",
    "        df.loc[v_, \"kfold\"] = f\n",
    "    return df\n",
    "        \n",
    "df = stratKFold(df)"
   ]
  },
  {
   "cell_type": "markdown",
   "id": "b955745b-a32c-400a-9d9b-b30d8e64ad14",
   "metadata": {},
   "source": [
    "### Baseline Model\n",
    "We start by building a simple baseline model so that we have something to compare our later models to. In a regression scenario we could simply use the average of the target variable at every prediction, in our classification case however we are going to use a logistic regression model trained on our two most correlated features. "
   ]
  },
  {
   "cell_type": "markdown",
   "id": "9d4710d9-8448-4543-b1da-6737bb07a8a7",
   "metadata": {},
   "source": [
    "Before we start lets initialize Mlflow and write a general scoring function to evaluate our model."
   ]
  },
  {
   "cell_type": "code",
   "execution_count": 7,
   "id": "5a5c5a6d-0ec1-4e71-a6e3-973a672dc1dc",
   "metadata": {},
   "outputs": [],
   "source": [
    "import mlflow \n",
    "from sklearn.metrics import f1_score, recall_score, precision_score\n",
    "\n",
    "# initialize mlflow\n",
    "mlflow.set_experiment(\"mlflow/customer_churn_model\")\n",
    "\n",
    "# scoring function \n",
    "def score(y, preds):\n",
    "    \"\"\"\n",
    "    Returns corresponding metric scores \n",
    "    :param y: true y values\n",
    "    :param preds: predicted y values\n",
    "    :return: f1_score, recall, and precision scores \n",
    "    \"\"\"\n",
    "    f1 = f1_score(y, preds)\n",
    "    recall = recall_score(y, preds)\n",
    "    precision = precision_score(y, preds)\n",
    "    return [f1, recall, precision]"
   ]
  },
  {
   "cell_type": "markdown",
   "id": "7ebc9773-3dcc-46a1-b30b-15f53b83f9a6",
   "metadata": {},
   "source": [
    "Now let's build our baseline model and see how it does on each validation set!"
   ]
  },
  {
   "cell_type": "code",
   "execution_count": 8,
   "id": "2977dee8-51cf-4118-91de-88c6a2934f3f",
   "metadata": {},
   "outputs": [
    {
     "name": "stdout",
     "output_type": "stream",
     "text": [
      "Average F1 = 0.08725760427444854, Recall = 0.04847338935574229, Precision = 0.440932400932401\n"
     ]
    }
   ],
   "source": [
    "from sklearn.linear_model import LogisticRegression\n",
    "from sklearn.preprocessing import StandardScaler\n",
    "# baseline model\n",
    "f1_scores, recall_scores, precision_scores = [], [], []\n",
    "for fold in range(5):\n",
    "    # define train and validation set\n",
    "    features = [\"total_day_minutes\", \"number_customer_service_calls\"]\n",
    "    df_train = df[df.kfold != fold].reset_index(drop=True)\n",
    "    df_valid = df[df.kfold == fold].reset_index(drop=True)\n",
    "    # target and features\n",
    "    y_train = df_train['churn'].values\n",
    "    y_valid = df_valid['churn'].values\n",
    "    # init and fit scaler \n",
    "    scaler = StandardScaler()\n",
    "    x_train = scaler.fit_transform(df_train[features])\n",
    "    x_valid = scaler.transform(df_valid[features])\n",
    "    # create and train model\n",
    "    clf = LogisticRegression()\n",
    "    clf.fit(x_train, y_train)\n",
    "    preds = clf.predict(x_valid)\n",
    "    # score model\n",
    "    scores = score(y_valid, preds)\n",
    "    f1_scores.append(scores[0])\n",
    "    recall_scores.append(scores[1])\n",
    "    precision_scores.append(scores[2])\n",
    "# average scores over each fold\n",
    "f1_avg = np.average(f1_scores)\n",
    "recall_avg = np.average(recall_scores)\n",
    "precision_avg = np.average(precision_scores)\n",
    "print(f\"Average F1 = {f1_avg}, Recall = {recall_avg}, Precision = {precision_avg}\")\n",
    "\n",
    "# log metrics on mlflow \n",
    "with mlflow.start_run(run_name=\"lr_baseline\") as mlops_run:\n",
    "        mlflow.log_metric(\"F1\", f1_avg)\n",
    "        mlflow.log_metric(\"Recall\", recall_avg)\n",
    "        mlflow.log_metric(\"Preision\", precision_avg)"
   ]
  },
  {
   "cell_type": "markdown",
   "id": "d3ef2199-c013-48b1-8076-b2575dd6f501",
   "metadata": {},
   "source": [
    "So yea, the results aren't great (actually they are terrible) but that only means we are going to get better. This was only a baseline! We can try a few things to improve our model: \n",
    "* We can balance out our classes by over and under-sampling as the imbalance is causing bias towards the majority class in our model.\n",
    "* We can train on more features."
   ]
  },
  {
   "cell_type": "markdown",
   "id": "b3b80c21-5701-42ad-a778-3d2d8cdc50ee",
   "metadata": {},
   "source": [
    "### SMOTE: To Over-Sample the Minority Class\n",
    "One problem we have with imbalanced classification is that there are too few examples of the minority class for a model to effectively learn the decision boundary. One way to solve this problem would be to over-sample the examples in the minority class. This could be achieved by simply duplicating examples from the minority class in the training dataset, although this does not provide any additional information to the model. An improvement on duplicating examples from the minority class is to synthesize new examples from the minority class. A common technique for this, introduced in [this paper](https://arxiv.org/abs/1106.1813), is SMOTE. It's worth noting that over sampling isn't our only option, we could for example  under-sample (or combine a mix of the two) by using a technique such as [TOMEK-links](https://en.wikipedia.org/wiki/Oversampling_and_undersampling_in_data_analysis#Tomek_links) (SMOTE-TOMEK helps do both under and over-sampling in one go). In our case however, the best performance boost came from SMOTE alone. \n",
    "\n",
    "Before we do this however, lets write a general feature processing pipeline to get our data ready for modeling. Our function returns a Sklearn pipeline object that we can use to fit and transform our data. It first splits the data into numeric, categorical features, and binary features as we process each of these differently. The categorical features are encoded using one-hot encoding, while the binary features are left alone. Finally, the numeric features have their missing values imputed. Scaling the numeric features was also tried but it didn't lead to a performance increase. It's also in our best interest to not scale these as it makes interpreting the results harder."
   ]
  },
  {
   "cell_type": "code",
   "execution_count": 9,
   "id": "15720250-d8ab-4495-a2dc-3efe380df291",
   "metadata": {},
   "outputs": [],
   "source": [
    "from sklearn.preprocessing import StandardScaler, MinMaxScaler, OneHotEncoder, OrdinalEncoder\n",
    "from sklearn.impute import SimpleImputer\n",
    "from sklearn.pipeline import Pipeline, FeatureUnion\n",
    "from mlxtend.feature_selection import ColumnSelector\n",
    "from category_encoders import HashingEncoder\n",
    "\n",
    "def feature_pipeline(config_path=\"params.yaml\"):\n",
    "    \"\"\"\n",
    "    :param config_path: path to params.yaml file\n",
    "    :return: preprocessing feature pipeline \n",
    "    \"\"\"\n",
    "    # load in config information\n",
    "    config = read_params(config_path)\n",
    "    num_features = config[\"raw_data_config\"][\"model_features\"][\"numeric\"]\n",
    "    cat_features = config[\"raw_data_config\"][\"model_features\"][\"categorical\"]\n",
    "    binary_features = config[\"raw_data_config\"][\"model_features\"][\"binary\"]\n",
    "\n",
    "    # transformers\n",
    "    transforms = []\n",
    "    # categorical pipeline\n",
    "    transforms.append(\n",
    "        (\n",
    "            \"categorical\",\n",
    "            Pipeline(\n",
    "                [\n",
    "                    (\"select\", ColumnSelector(cols=cat_features)),\n",
    "                    (\"encode\", OneHotEncoder()),\n",
    "                ]\n",
    "            ),\n",
    "        )\n",
    "    )\n",
    "    transforms.append(\n",
    "        (\n",
    "            \"binary\",\n",
    "            Pipeline(\n",
    "                [\n",
    "                    (\"select\", ColumnSelector(cols=binary_features)),\n",
    "                    (\"encode\", OrdinalEncoder()),\n",
    "                ]\n",
    "            ),\n",
    "        )\n",
    "    )\n",
    "    # numeric pipeline\n",
    "    transforms.append(\n",
    "        (\n",
    "            \"numeric\",\n",
    "            Pipeline(\n",
    "                [\n",
    "                    (\"select\", ColumnSelector(cols=num_features)),\n",
    "                    (\"impute\", SimpleImputer(missing_values=np.nan, strategy=\"median\")),   \n",
    "                ]\n",
    "            ),\n",
    "        )\n",
    "    )\n",
    "    \n",
    "    # combine features\n",
    "    features = FeatureUnion(transforms)\n",
    "    return features"
   ]
  },
  {
   "cell_type": "markdown",
   "id": "6d1928d9-59ab-4e94-a6d3-2e31392cad87",
   "metadata": {},
   "source": [
    "A general training function is written below, notice we can choose whether we want to use SMOTE or not. The sampling strategy in SMOTE controls how much we resample the minority class and it's something we can tune later."
   ]
  },
  {
   "cell_type": "code",
   "execution_count": 10,
   "id": "fec61a38-76d6-4fb5-bb93-650e8c7a0171",
   "metadata": {},
   "outputs": [],
   "source": [
    "from imblearn.over_sampling import SMOTE, SMOTENC\n",
    "def train(fold, df, model=LogisticRegression(solver='newton-cg'), smote=False):\n",
    "    \"\"\"\n",
    "    :param fold: fold to train model on\n",
    "    :param df: pandas dataframe containing our data\n",
    "    :param model: model to train data on\n",
    "    :param smote: float, if named it is the sampling strategy for SMOTE\n",
    "    :return: f1, recall, precision validation score for fold, as well as y_valid and preds\n",
    "    \"\"\"\n",
    "    # feature pipeline\n",
    "    features = feature_pipeline()\n",
    "\n",
    "    # define train and validation set\n",
    "    df_train = df[df.kfold != fold].reset_index(drop=True)\n",
    "    df_valid = df[df.kfold == fold].reset_index(drop=True)\n",
    "    # target and features\n",
    "    y_train = df_train['churn'].values\n",
    "    y_valid = df_valid['churn'].values\n",
    "\n",
    "    # create training and validation features\n",
    "    x_train = features.fit_transform(df_train)\n",
    "    x_valid = features.transform(df_valid)\n",
    "\n",
    "    # smote\n",
    "    if smote:\n",
    "        smt = SMOTE(random_state=42, sampling_strategy=smote) \n",
    "        x_train, y_train = smt.fit_resample(x_train, y_train)\n",
    "\n",
    "    # create and train model\n",
    "    clf = model\n",
    "    clf.fit(x_train, y_train)\n",
    "    preds = clf.predict(x_valid)\n",
    "    # score model\n",
    "    scores = score(y_valid, preds)\n",
    "    return scores, [y_valid, preds]"
   ]
  },
  {
   "cell_type": "markdown",
   "id": "e6277a56-00bd-4621-ab42-186be07b0b23",
   "metadata": {},
   "source": [
    "Before we use SMOTE, let's train a logistic regression model on all of the features to try and get a new baseline.  "
   ]
  },
  {
   "cell_type": "code",
   "execution_count": 11,
   "id": "416724ac-4bf7-4131-b5f7-38bc2ff06acc",
   "metadata": {},
   "outputs": [
    {
     "name": "stdout",
     "output_type": "stream",
     "text": [
      "Average F1 = 0.3066722566642678, Recall = 0.2107563025210084, Precision = 0.5720696669209255\n"
     ]
    }
   ],
   "source": [
    "f1_scores, recall_scores, precision_scores = [], [], []\n",
    "for fold in range(5):\n",
    "    scores, _ = train(fold,df, smote=False)\n",
    "    f1, recall, precision = scores\n",
    "    f1_scores.append(f1)\n",
    "    recall_scores.append(recall)\n",
    "    precision_scores.append(precision)\n",
    "# average scores over each fold\n",
    "f1_avg = np.average(f1_scores)\n",
    "recall_avg = np.average(recall_scores)\n",
    "precision_avg = np.average(precision_scores)\n",
    "print(f\"Average F1 = {f1_avg}, Recall = {recall_avg}, Precision = {precision_avg}\")\n",
    "# log metrics on mlflow \n",
    "with mlflow.start_run(run_name=\"lr_all_features\") as mlops_run:\n",
    "        mlflow.log_metric(\"F1\", f1_avg)\n",
    "        mlflow.log_metric(\"Recall\", recall_avg)\n",
    "        mlflow.log_metric(\"Preision\", precision_avg)"
   ]
  },
  {
   "cell_type": "markdown",
   "id": "6b4b9b0d-b39d-45f9-a4ff-07cff78b6c19",
   "metadata": {},
   "source": [
    "The results are definitely better than before but still not great. We've waited long enough, let's try using SMOTE! We are going to use SMOTE to over-sample our churn datapoints so that we end up with equal class distributions. "
   ]
  },
  {
   "cell_type": "code",
   "execution_count": 12,
   "id": "c894b2f1-41a1-41a7-9ed2-afea1366ff95",
   "metadata": {},
   "outputs": [],
   "source": [
    "def train_and_eval(df, model=LogisticRegression(solver='newton-cg'), smote=0.75, model_name=\"\", params = {}, log_mlflow=True):\n",
    "    '''\n",
    "    train model and evaluate it on each fold\n",
    "    :param df: pandas dataframe containing our data\n",
    "    :param model: model to train data on\n",
    "    :param model_name: string, for tracking on mlflow\n",
    "    :param params: dict, for tracking on mlflow\n",
    "    :param log_mlflow: boolean, if true then log results using mlflow\n",
    "    :return: average score for each metric\n",
    "    '''\n",
    "    f1_scores, recall_scores, precision_scores = [], [], []\n",
    "    for fold in range(5):\n",
    "        scores, _ = train(fold, df, model=model, smote=smote)\n",
    "        f1, recall, precision = scores\n",
    "        f1_scores.append(f1)\n",
    "        recall_scores.append(recall)\n",
    "        precision_scores.append(precision)\n",
    "    # average scores over each fold\n",
    "    f1_avg = np.average(f1_scores)\n",
    "    recall_avg = np.average(recall_scores)\n",
    "    precision_avg = np.average(precision_scores)\n",
    "    print(f\"Average F1 = {f1_avg}, Recall = {recall_avg}, Precision = {precision_avg}\")\n",
    "    # log metrics on mlflow \n",
    "    if log_mlflow:\n",
    "        with mlflow.start_run(run_name=model_name) as mlops_run:\n",
    "                mlflow.log_metric(\"F1\", f1_avg)\n",
    "                mlflow.log_metric(\"Recall\", recall_avg)\n",
    "                mlflow.log_metric(\"Preision\", precision_avg)\n",
    "                if params:\n",
    "                    mlflow.log_params(params)\n",
    "    return f1_avg"
   ]
  },
  {
   "cell_type": "markdown",
   "id": "52f9cf6b-1b37-4c41-aadf-f9ee17d0ee2a",
   "metadata": {},
   "source": [
    "An important side note: when using SMOTE we need to evaluate performance on a validation set which has **not** been over-sampled. Otherwise, we will not be getting a true performance measure."
   ]
  },
  {
   "cell_type": "code",
   "execution_count": 13,
   "id": "a36bcd12-7640-425b-85f4-4f8434b07fe4",
   "metadata": {},
   "outputs": [
    {
     "name": "stdout",
     "output_type": "stream",
     "text": [
      "Average F1 = 0.49789052753778434, Recall = 0.6906862745098039, Precision = 0.3894759793369957\n"
     ]
    },
    {
     "data": {
      "text/plain": [
       "0.49789052753778434"
      ]
     },
     "execution_count": 13,
     "metadata": {},
     "output_type": "execute_result"
    }
   ],
   "source": [
    "train_and_eval(df, model_name=\"lr_all_features_smote\")"
   ]
  },
  {
   "cell_type": "markdown",
   "id": "80b22345-6aac-4867-a0bf-3d588fe0abb0",
   "metadata": {},
   "source": [
    "Wow! We have boosted the F1 score from 0.31 to 0.50, and the recall has gone from 0.21 to 0.69! An important note is that the precision has practically stayed the same. Why is that? Well, what is precision measuring? Mathematically, precision the number of true positives divided by the number of true positives plus the number of false positives. It tells us that our model is correct 47% of the time when trying to predict positive samples. So by over-sampling we have decreased the number of false negatives but we have also increased the number of false positives. This is OK as we decided we will favor false positives over false negatives. An intuitive way to see this change is by looking at a **confusion matrix**. "
   ]
  },
  {
   "cell_type": "code",
   "execution_count": 14,
   "id": "e34dbb12-05ed-47c3-9ec0-364188186623",
   "metadata": {},
   "outputs": [
    {
     "data": {
      "image/png": "[encoded data removed]",
      "text/plain": [
       "<Figure size 1080x720 with 4 Axes>"
      ]
     },
     "metadata": {},
     "output_type": "display_data"
    }
   ],
   "source": [
    "from sklearn.metrics import confusion_matrix, ConfusionMatrixDisplay\n",
    "# get preds for non-smote and smote models\n",
    "_, evals = train(0, df, smote=False)\n",
    "_, evals_smote = train(0, df, smote=True)\n",
    "# set axis and plot\n",
    "fig, (ax1, ax2) = plt.subplots(nrows=1, ncols=2, figsize=(15,10))\n",
    "ax1.set_title(\"Model without SMOTE\")\n",
    "ConfusionMatrixDisplay.from_predictions(*evals, ax=ax1)\n",
    "ax2.set_title(\"Model with SMOTE\")\n",
    "ConfusionMatrixDisplay.from_predictions(*evals_smote, ax=ax2)\n",
    "plt.tight_layout()  \n",
    "plt.show()"
   ]
  },
  {
   "cell_type": "markdown",
   "id": "b13acbe7-53e9-4686-b9b8-8d7d5e89086c",
   "metadata": {},
   "source": [
    "We can see that the TP number goes from 33 to 90 and the FN number goes from 86 to 29, great! However, as a consequence of this we see the FP number goes from 21 to 158. But, as mentioned earlier, we are ok with that as we care more about finding out which customers are going to leave. \n",
    "A little side note: the FP and FN rates can be tuned using the probability threshold and the easiest way to compare the two models is to compare F1 scores."
   ]
  },
  {
   "cell_type": "markdown",
   "id": "ea6d8e6f-dfa9-46d1-89df-f5d9d0501095",
   "metadata": {},
   "source": [
    "## Feature Selection \n",
    "We can train a more complicated model and then use this to select features. Specifically, we train a random forest classifier and then use SHAP values to select the most promising features. Narrowing down the feature space helps reduce dimensionality and generalizability while also making interpreting results easier. It's a win win!"
   ]
  },
  {
   "cell_type": "code",
   "execution_count": 15,
   "id": "d94eb435-c8c2-4232-ae0c-9c1d828fffab",
   "metadata": {},
   "outputs": [],
   "source": [
    "from sklearn.ensemble import RandomForestClassifier\n",
    "features = feature_pipeline()\n",
    "X = np.asarray(features.fit_transform(df).todense())\n",
    "y = df['churn'].values\n",
    "\n",
    "clf = RandomForestClassifier()\n",
    "model = clf.fit(X,y)\n",
    "\n",
    "import shap \n",
    "explainer = shap.TreeExplainer(model)\n",
    "shap_values = explainer.shap_values(X)"
   ]
  },
  {
   "cell_type": "code",
   "execution_count": 16,
   "id": "665c03ac-bbee-465a-821c-e8ba662eac39",
   "metadata": {},
   "outputs": [],
   "source": [
    "# get feature names\n",
    "num_features = config[\"raw_data_config\"][\"model_features\"][\"numeric\"]\n",
    "cat_features = config[\"raw_data_config\"][\"model_features\"][\"categorical\"]\n",
    "bin_features = config[\"raw_data_config\"][\"model_features\"][\"binary\"]\n",
    "cat_features = features.transformer_list[0][1][1].get_feature_names_out(cat_features)\n",
    "feature_names = list(cat_features) + list(bin_features) + list(num_features)"
   ]
  },
  {
   "cell_type": "code",
   "execution_count": 17,
   "id": "04e2be23-9bf9-42e6-bd5f-53662d39adc9",
   "metadata": {},
   "outputs": [
    {
     "data": {
      "image/png": "[encoded data removed]",
      "text/plain": [
       "<Figure size 576x684 with 1 Axes>"
      ]
     },
     "metadata": {},
     "output_type": "display_data"
    }
   ],
   "source": [
    "shap.summary_plot(shap_values, features=X, feature_names=feature_names, plot_type='bar')"
   ]
  },
  {
   "cell_type": "code",
   "execution_count": 18,
   "id": "e4f8a55d-50ed-47a1-ad53-c842bd1ce2f5",
   "metadata": {},
   "outputs": [],
   "source": [
    "features_keep = [\n",
    "    'total_charge', 'number_customer_service_calls', 'international_plan', 'total_day_minutes', 'total_day_charge', \n",
    "    'total_minutes', 'total_intl_calls', 'voice_mail_plan', 'total_intl_minutes', 'number_vmail_messages', 'total_intl_charge'\n",
    "]"
   ]
  },
  {
   "cell_type": "markdown",
   "id": "3dd598c5-f753-437f-a344-9789902e9b20",
   "metadata": {},
   "source": [
    "We can now define a new pipeline to preprocess and only select our needed features. "
   ]
  },
  {
   "cell_type": "code",
   "execution_count": 19,
   "id": "98956254-8a26-4e73-b5d5-c07750d00a7d",
   "metadata": {},
   "outputs": [],
   "source": [
    "def feature_pipeline():\n",
    "    \"\"\"\n",
    "    :return: preprocessing feature pipeline with selected features\n",
    "    \"\"\"\n",
    "    # different features\n",
    "    numeric_features = [\n",
    "        'total_charge', 'number_customer_service_calls', 'total_day_minutes', 'total_day_charge', \n",
    "        'total_minutes', 'total_intl_calls', 'total_intl_minutes', 'number_vmail_messages', 'total_intl_charge'\n",
    "    ]\n",
    "    binary_features = ['international_plan', 'voice_mail_plan']\n",
    "\n",
    "    # transformers\n",
    "    transforms = []\n",
    "    \n",
    "    transforms.append(\n",
    "        (\n",
    "            \"binary\",\n",
    "            Pipeline(\n",
    "                [\n",
    "                    (\"select\", ColumnSelector(cols=binary_features)),\n",
    "                    (\"encode\", OrdinalEncoder()),\n",
    "                ]\n",
    "            ),\n",
    "        )\n",
    "    )\n",
    "    # numeric pipeline\n",
    "    transforms.append(\n",
    "        (\n",
    "            \"numeric\",\n",
    "            Pipeline(\n",
    "                [\n",
    "                    (\"select\", ColumnSelector(cols=numeric_features)),\n",
    "                    (\"impute\", SimpleImputer(missing_values=np.nan, strategy=\"median\")),   \n",
    "                ]\n",
    "            ),\n",
    "        )\n",
    "    )\n",
    "    \n",
    "    # combine features\n",
    "    features = FeatureUnion(transforms)\n",
    "    return features"
   ]
  },
  {
   "cell_type": "markdown",
   "id": "192a4e18-025a-4476-81af-f1d76a26977c",
   "metadata": {},
   "source": [
    "Let's see how our logistic regression model does with our narrowed down features!"
   ]
  },
  {
   "cell_type": "code",
   "execution_count": 20,
   "id": "8ab1d462-da3e-46e1-a7fc-1d28a2255057",
   "metadata": {},
   "outputs": [
    {
     "name": "stdout",
     "output_type": "stream",
     "text": [
      "Average F1 = 0.5025520964212148, Recall = 0.6940336134453782, Precision = 0.3940789241235847\n"
     ]
    },
    {
     "data": {
      "text/plain": [
       "0.5025520964212148"
      ]
     },
     "execution_count": 20,
     "metadata": {},
     "output_type": "execute_result"
    }
   ],
   "source": [
    "train_and_eval(df, model_name=\"lr_selected_features_smote\")"
   ]
  },
  {
   "cell_type": "markdown",
   "id": "c4e43247-f4c3-49a4-b121-af48fc1841dd",
   "metadata": {},
   "source": [
    "Awesome, we've removed features and our performance increases slightly. This confirms to us that the other features weren't important."
   ]
  },
  {
   "cell_type": "markdown",
   "id": "eeeabf3e-5b8c-4634-b7f2-9f33c8e2be41",
   "metadata": {},
   "source": [
    "### But can we do better than our logistic regression?\n",
    "It would be easy here to go all guns blazing and train an XGBOOST model, but remember that is **not** our goal. Our goal is to build an **interpretable** model that we can use to try and keep customers from leaving. \n",
    "As well as logistic regression, decision tree classifiers are very interpretable. Let's see how it gets on."
   ]
  },
  {
   "cell_type": "code",
   "execution_count": 21,
   "id": "cef0f09e-608e-4138-a591-33ccfdda5a34",
   "metadata": {},
   "outputs": [
    {
     "name": "stdout",
     "output_type": "stream",
     "text": [
      "Average F1 = 0.8152920749388362, Recall = 0.8461484593837536, Precision = 0.786946006985776\n"
     ]
    },
    {
     "data": {
      "text/plain": [
       "0.8152920749388362"
      ]
     },
     "execution_count": 21,
     "metadata": {},
     "output_type": "execute_result"
    }
   ],
   "source": [
    "from sklearn.tree import DecisionTreeClassifier\n",
    "train_and_eval(df, model=DecisionTreeClassifier(), model_name=\"dt_selected_features_smote\")"
   ]
  },
  {
   "cell_type": "markdown",
   "id": "a0bfa4a0-df75-420f-9644-626eedede09b",
   "metadata": {},
   "source": [
    "It does well! We need to be **very** careful though as decision trees overfit like there is not tomorrow. Let's go ahead and tune hyperparameters on both models to see if we can optimize things a little more. We will use [Optuna](https://optuna.org/) as I just love how easy and fast it is. \n",
    "\n",
    "### Hyperparameter Tuning\n",
    "\n",
    "We need a be super careful here, decision trees are very prone to overfitting and this is why random forest models are usually preferred. The random forest can generalize over the data in a better way as the randomized feature selection acts as a form of regularization. As discussed earlier though, in our case we care more about interpretability than performance. Now, although cross-validation is great for seeing how the model is generalizing, it doesn't necessarily prevent overfitting as we will just end up overfitting the validation sets. \n",
    "\n",
    "One measure of overfitting is when the training score is much higher than the testing score. I initially tried setting the objective function in the Optuna trial to the cross-validated validation scores but this still lead to overfitting as DTs don't have much regularization. \n",
    "\n",
    "Another possibility, that is this case worked superbly, is weighting the difference between cross-validated training scores and validation scores vs the validation score itself. For example, for F1 scores, a possible objective function is\n",
    "\n",
    "$$ \\sqrt{(\\overline{F1}_{\\mathrm{valid}} - \\overline{F1}_{\\mathrm{train}})^2} + 4(1 - \\overline{F1}_{\\mathrm{valid}})$$\n",
    "In this case the RMSE of the difference between validation and training is weighted four times less than the validation F1 score.\n",
    "Optimizing this function forces the train and valid score to stay close, while also maximizing the validation score."
   ]
  },
  {
   "cell_type": "code",
   "execution_count": 22,
   "id": "88353345-0167-44bd-805b-93eca3b2d730",
   "metadata": {},
   "outputs": [],
   "source": [
    "def train_valid_f1_score(mean_train, mean_test):\n",
    "    '''\n",
    "    RMSE of the difference between testing and training is weighted four times less than the test accuracy \n",
    "    '''\n",
    "    return np.sqrt((mean_test - mean_train)**2) + 4 * (1 - mean_test)"
   ]
  },
  {
   "cell_type": "code",
   "execution_count": 24,
   "id": "e51d7e29-1c90-4d78-af13-94d449dc7c49",
   "metadata": {},
   "outputs": [],
   "source": [
    "from optuna import Trial, create_study\n",
    "from optuna.samplers import TPESampler\n",
    "from scipy.stats import loguniform\n",
    "\n",
    "def objective(trial, n_jobs=-1, random_state=42):\n",
    "    '''\n",
    "    Objective function to optimize our custom metric using Optuna's TPE sampler\n",
    "    '''\n",
    "    # smote param space \n",
    "    smote_space = {'sampling_strategy': trial.suggest_uniform('sampling_strategy', 0.5, 1)}\n",
    "    # define search spaces\n",
    "    if model == LogisticRegression:\n",
    "        params = {\n",
    "            'solver': trial.suggest_categorical('solver', ['liblinear', 'saga']), \n",
    "            'penalty': trial.suggest_categorical('penalty', ['l1', 'l2']),\n",
    "            'C': trial.suggest_float(\"C\", 1.0, 10.0, log=True),\n",
    "            'tol': trial.suggest_float(\"tol\", 0.0001, 0.01, log=True),\n",
    "            'max_iter': trial.suggest_int('max_iter', 100, 1000)\n",
    "\n",
    "        }\n",
    "    else:\n",
    "        params = {\n",
    "            'max_depth': trial.suggest_int('max_depth',2,10), \n",
    "            'min_samples_leaf': trial.suggest_int('min_samples_leaf',1,30),\n",
    "            'min_samples_split': trial.suggest_int('min_samples_split',2,10),\n",
    "            'criterion': trial.suggest_categorical('criterion', [\"gini\", \"entropy\"])\n",
    "        }\n",
    "        \n",
    "    # feature pipeline\n",
    "    features = feature_pipeline()\n",
    "    # create training and validation features\n",
    "    X = features.fit_transform(df)\n",
    "    y = df['churn'].values\n",
    "\n",
    "    train_f1, valid_f1 = [], []\n",
    "    # Create StratifiedKFold object.\n",
    "    strat = StratifiedKFold(n_splits=10, shuffle=True, random_state=42)  \n",
    "    for train_index, test_index in strat.split(X, y):\n",
    "        # split data\n",
    "        x_train, x_valid = X[train_index], X[test_index]\n",
    "        y_train, y_valid = y[train_index], y[test_index]\n",
    "        # feature transformations and smote\n",
    "        smt = SMOTE(random_state=42, **smote_space) \n",
    "        x_train_smt, y_train_smt = smt.fit_resample(x_train, y_train)\n",
    "        # train model\n",
    "        clf = model(**params)\n",
    "        clf.fit(x_train_smt, y_train_smt)\n",
    "        # compute f1 score on valid and training data (without SMOTE!)\n",
    "        preds_train = clf.predict(x_train)\n",
    "        preds_valid = clf.predict(x_valid)\n",
    "        train_f1.append(f1_score(y_train, preds_train))\n",
    "        valid_f1.append(f1_score(y_valid, preds_valid))\n",
    "    # compute mean of f1 train/valid scores\n",
    "    train_f1_mean, valid_f1_mean = np.array(train_f1).mean(), np.array(valid_f1).mean()\n",
    "    # train/test cross score \n",
    "    return train_valid_f1_score(train_f1_mean, valid_f1_mean)"
   ]
  },
  {
   "cell_type": "code",
   "execution_count": 25,
   "id": "838301f7-8e22-415e-aeaf-05e244f31c06",
   "metadata": {},
   "outputs": [
    {
     "name": "stderr",
     "output_type": "stream",
     "text": [
      "\u001b[32m[I 2021-12-28 15:03:39,797]\u001b[0m A new study created in memory with name: no-name-eeeda589-2aad-4745-9c2f-ceca0dde2dce\u001b[0m\n"
     ]
    }
   ],
   "source": [
    "# model to optimize\n",
    "model = DecisionTreeClassifier\n",
    "\n",
    "# Bayesian sampler \n",
    "sampler = TPESampler()\n",
    "study = create_study(direction=\"minimize\", sampler=sampler)\n",
    "# study.optimize(objective, n_trials=100)\n",
    "\n",
    "# # display params\n",
    "# best = study.best_params\n",
    "# for key, value in best.items():\n",
    "#     print(f\"{key:>20s} : {value}\")\n",
    "# print(f\"{'best objective value':>20s} : {study.best_value}\")"
   ]
  },
  {
   "cell_type": "markdown",
   "id": "5fcda03e-42eb-442f-b0dc-d2fa12ea8084",
   "metadata": {},
   "source": [
    "This gives us the following results:\n",
    "* **Logistic Regression** Best Hyperparameters: {'solver' : 'liblinear', 'penalty' : 'l2', 'C' : 1.14, 'tol' : 0.0002, max_iter : 150}\n",
    "* **Decision Tree** Best Hyperparameters: {'max_depth': 7, 'min_samples_leaf': 4, 'min_samples_split': 10, 'criterion': 'gini'},\n",
    "* **SMOTE SAMPLING STRATEGY** 0.70 for LR and 0.56 for DT"
   ]
  },
  {
   "cell_type": "markdown",
   "id": "6dfd2237-2d60-4d3c-b2a4-fdbe692e9639",
   "metadata": {},
   "source": [
    "Let's train some model with these parameters and see what we get!"
   ]
  },
  {
   "cell_type": "code",
   "execution_count": 27,
   "id": "f4809095-3321-4c9e-8421-d121d8f60322",
   "metadata": {},
   "outputs": [],
   "source": [
    "def train(df, model, params, sampling_strategy):\n",
    "    '''\n",
    "    Train model and output both training and validation f1 scores\n",
    "    :param df: pandas dataframe of our data\n",
    "    :param model: model to train\n",
    "    :param params: dict, model hyperparams\n",
    "    :param sampling_strategy: float, sampling strat for SMOTE\n",
    "    :return: prints training and validation F1 scores\n",
    "    '''\n",
    "    # feature pipeline\n",
    "    features = feature_pipeline()\n",
    "    # create training and validation features\n",
    "    X = features.fit_transform(df)\n",
    "    y = df['churn'].values\n",
    "\n",
    "    train_f1, valid_f1 = [], []\n",
    "    # Create StratifiedKFold object.\n",
    "    strat = StratifiedKFold(n_splits=10, shuffle=True, random_state=42)  \n",
    "    for train_index, test_index in strat.split(X, y):\n",
    "        # split data\n",
    "        x_train, x_valid = X[train_index], X[test_index]\n",
    "        y_train, y_valid = y[train_index], y[test_index]\n",
    "        # feature transformations and smote\n",
    "        smt = SMOTE(random_state=42, sampling_strategy=sampling_strategy) \n",
    "        x_train_smt, y_train_smt = smt.fit_resample(x_train, y_train)\n",
    "        # train model\n",
    "        clf = model(**params)\n",
    "        clf.fit(x_train_smt, y_train_smt)\n",
    "        # compute f1 score on valid and training data (without SMOTE!)\n",
    "        preds_train = clf.predict(x_train)\n",
    "        preds_valid = clf.predict(x_valid)\n",
    "        train_f1.append(f1_score(y_train, preds_train))\n",
    "        valid_f1.append(f1_score(y_valid, preds_valid))\n",
    "    # compute mean of f1 train/valid scores\n",
    "    train_f1_mean, valid_f1_mean = np.array(train_f1).mean(), np.array(valid_f1).mean()\n",
    "    # train/test cross score \n",
    "    print(f\"Average training F1 score {train_f1_mean}\")\n",
    "    print(f\"Average validation F1 score {valid_f1_mean}\")\n",
    "    print(f\"Overfit score {train_valid_f1_score(train_f1_mean, valid_f1_mean)}\")"
   ]
  },
  {
   "cell_type": "code",
   "execution_count": 28,
   "id": "0dbc8251-e59a-406c-97e0-287ac9ee4e0a",
   "metadata": {},
   "outputs": [
    {
     "name": "stdout",
     "output_type": "stream",
     "text": [
      "Average training F1 score 0.5009518013999269\n",
      "Average validation F1 score 0.5034031228088905\n",
      "Overfit score 1.9888388301734015\n"
     ]
    }
   ],
   "source": [
    "params = {'solver' : 'liblinear', 'penalty' : 'l2', 'C' : 1.14, 'tol' : 0.0002, 'max_iter' : 150}\n",
    "train(df, LogisticRegression, params, 0.70)"
   ]
  },
  {
   "cell_type": "code",
   "execution_count": 29,
   "id": "ebbcacec-d95b-4be1-a769-2d1013608952",
   "metadata": {},
   "outputs": [
    {
     "name": "stdout",
     "output_type": "stream",
     "text": [
      "Average training F1 score 0.9153416502877135\n",
      "Average validation F1 score 0.8928098706544405\n",
      "Overfit score 0.451292297015511\n"
     ]
    }
   ],
   "source": [
    "params = {'max_depth': 7, 'min_samples_leaf': 4, 'min_samples_split': 10, 'criterion': 'gini'}\n",
    "train(df, DecisionTreeClassifier, params, 0.70)"
   ]
  },
  {
   "cell_type": "markdown",
   "id": "5a54376c-01bd-40b7-a50a-cdbebfd58144",
   "metadata": {},
   "source": [
    "Although this model looks great and doesn't appear to be overfitting we are going to go with the model below that has been tuned with a lower maximum depth. Our goal is interpretability and a depth of 7 doesn't really give us that. So we are sacrificing a little bit of accuracy for interpretability."
   ]
  },
  {
   "cell_type": "code",
   "execution_count": 30,
   "id": "3160ef9d-e158-4ed5-a056-065cdfedd16c",
   "metadata": {},
   "outputs": [
    {
     "name": "stdout",
     "output_type": "stream",
     "text": [
      "Average training F1 score 0.8217456929425225\n",
      "Average validation F1 score 0.816103270284813\n",
      "Overfit score 0.7412293415184575\n"
     ]
    }
   ],
   "source": [
    "params = {'max_depth': 4, 'min_samples_leaf': 18, 'min_samples_split': 17, 'criterion': 'entropy'}\n",
    "train(df, DecisionTreeClassifier, params, 0.78)"
   ]
  },
  {
   "cell_type": "code",
   "execution_count": 31,
   "id": "f7584cfa-d21a-480d-b343-83ac3ec329b3",
   "metadata": {},
   "outputs": [],
   "source": [
    "with mlflow.start_run(run_name=\"dt_tuned\") as mlops_run:\n",
    "        mlflow.log_metric(\"F1\", 0.8161)"
   ]
  },
  {
   "cell_type": "markdown",
   "id": "2fffc089-905d-46cf-9929-257b040a8139",
   "metadata": {},
   "source": [
    "Great, so we now have a few potential models. We are going to move forward with the decision tree model as the logistic regression model isn't quite up to scratch. \n",
    "\n",
    "### Pruning the Decision Tree\n",
    "Although our model doesn't appear to be overfitting, we are still going to prune the decision tree as it helps us get rid of sub-nodes that don't have much predictive power. We do this with the hope that this helps our model generalize better. An added bonus, that tends to come with most regularization, is that it also helps improve the interpretability of the model. \n",
    "\n",
    "We can prune our tree by picking the right cost complexity parameter. We will start by training a model on the whole dataset, with our chosen hyperparams, to find our space of $\\alpha$'s - the cost complexity parameter."
   ]
  },
  {
   "cell_type": "code",
   "execution_count": 34,
   "id": "acc98ebc-dc3c-419b-8ba8-50d52be73892",
   "metadata": {},
   "outputs": [],
   "source": [
    "def train_full(df, model, params, smote=0.78):\n",
    "    \"\"\"\n",
    "    train model on whole dataset\n",
    "    :param df: pandas dataframe containing our data\n",
    "    :param model: model to train data on\n",
    "    :param params: dict, model hyperparameters\n",
    "    :return: trained model and feature transformation pipeline\n",
    "    \"\"\"\n",
    "    # feature pipeline\n",
    "    features = feature_pipeline()\n",
    "\n",
    "    # target and features\n",
    "    x_train = features.fit_transform(df)\n",
    "    y_train = df['churn'].values\n",
    "\n",
    "    smt = SMOTE(random_state=42, sampling_strategy=smote)\n",
    "    x_train, y_train = smt.fit_resample(x_train, y_train)\n",
    "\n",
    "    # create and train model\n",
    "    clf = model(**params)\n",
    "    clf.fit(x_train, y_train)\n",
    "    return clf, features"
   ]
  },
  {
   "cell_type": "code",
   "execution_count": 35,
   "id": "7c660c42-ca47-45e0-ad93-3b2c4abfd825",
   "metadata": {},
   "outputs": [],
   "source": [
    "# train full model \n",
    "params = {'max_depth': 4, 'min_samples_leaf': 18, 'min_samples_split': 17, 'criterion': 'entropy'}\n",
    "clf, features = train_full(df=df, model=DecisionTreeClassifier, params=params)"
   ]
  },
  {
   "cell_type": "code",
   "execution_count": 36,
   "id": "a94401ba-5ca4-4bf7-a0d1-7c606ca9bf70",
   "metadata": {},
   "outputs": [
    {
     "data": {
      "text/plain": [
       "array([0.        , 0.00057893, 0.00059309, 0.00098679, 0.00117254,\n",
       "       0.0019927 , 0.00322822, 0.00418948, 0.00719436, 0.00811411,\n",
       "       0.02386822, 0.06419409])"
      ]
     },
     "execution_count": 36,
     "metadata": {},
     "output_type": "execute_result"
    }
   ],
   "source": [
    "# get cost complexity alphas from model\n",
    "ccp_alphas = clf.cost_complexity_pruning_path(x_train, y_train)['ccp_alphas']\n",
    "ccp_alphas"
   ]
  },
  {
   "cell_type": "markdown",
   "id": "ca58f5a4-0154-4a5a-add3-4a545c946d34",
   "metadata": {},
   "source": [
    "We can then score each of these $\\alpha$'s in a cross-validated way to find the best complexity to choose."
   ]
  },
  {
   "cell_type": "code",
   "execution_count": 38,
   "id": "38f0b76b-0643-4924-9e85-7335a2e366ef",
   "metadata": {},
   "outputs": [
    {
     "name": "stdout",
     "output_type": "stream",
     "text": [
      "{'0.0': 0.816103270284813,\n",
      " '0.0005789325156238256': 0.816103270284813,\n",
      " '0.0005930920192462885': 0.816103270284813,\n",
      " '0.0009867859833913376': 0.816103270284813,\n",
      " '0.0011725425508943704': 0.816103270284813,\n",
      " '0.0019927001338321468': 0.816103270284813,\n",
      " '0.003228215942898363': 0.816103270284813,\n",
      " '0.0041894808849862325': 0.816103270284813,\n",
      " '0.007194356040110275': 0.8142671700825213,\n",
      " '0.00811411007422369': 0.8147206576154481,\n",
      " '0.023868223077443323': 0.7667293021998818,\n",
      " '0.06419408989742087': 0.6540410407393117}\n"
     ]
    }
   ],
   "source": [
    "def search_alpha_space(alphas, df=df):\n",
    "    '''\n",
    "    Cross validated scoring of each ccp_alpha \n",
    "    :param alphas: list, ccp_alphas from trained model \n",
    "    :param df: pandas dataframe \n",
    "    :return: dict, of alphas and avergae corresponding validation F1 score\n",
    "    '''\n",
    "    # optimized parameters\n",
    "    params = {'max_depth': 4, 'min_samples_leaf': 18, 'min_samples_split': 17, 'criterion': 'entropy'}\n",
    "    sampling_strategy = 0.78\n",
    "        \n",
    "    # feature pipeline\n",
    "    features = feature_pipeline()\n",
    "    # create training and validation features\n",
    "    X = features.fit_transform(df)\n",
    "    y = df['churn'].values\n",
    "\n",
    "    f1 = {}\n",
    "    # Create StratifiedKFold object.\n",
    "    strat = StratifiedKFold(n_splits=10, shuffle=True, random_state=42)  \n",
    "    for alpha in alphas:\n",
    "        score = []\n",
    "        for train_index, test_index in strat.split(X, y):\n",
    "            # split data\n",
    "            x_train, x_valid = X[train_index], X[test_index]\n",
    "            y_train, y_valid = y[train_index], y[test_index]\n",
    "            # feature transformations and smote\n",
    "            smt = SMOTE(random_state=42, sampling_strategy=0.78) \n",
    "            x_train_smt, y_train_smt = smt.fit_resample(x_train, y_train)\n",
    "            # train model\n",
    "            clf = DecisionTreeClassifier(ccp_alpha=alpha, **params)\n",
    "            clf.fit(x_train_smt, y_train_smt)\n",
    "            # compute f1 score on valid and training data (without SMOTE!)\n",
    "            preds_valid = clf.predict(x_valid)\n",
    "            score.append(f1_score(y_valid, preds_valid))\n",
    "        f1[f'{alpha}'] = np.array(score).mean()\n",
    "    return f1\n",
    "\n",
    "optim_alpha = search_alpha_space(ccp_alphas)\n",
    "\n",
    "# print scored alphas\n",
    "from pprint import pprint \n",
    "pprint(optim_alpha)"
   ]
  },
  {
   "cell_type": "markdown",
   "id": "bd55116e-8318-48d8-be73-ac79b80c7034",
   "metadata": {},
   "source": [
    "We can see that the value $\\alpha = 0.00811411$ is the best complexity to choose. In general, as $\\alpha$ increases the number of nodes and depth decreases. So we pick the highest $\\alpha$ value that still has a good average F1 score."
   ]
  },
  {
   "cell_type": "markdown",
   "id": "6ac66fa3-b0fa-4451-ae3a-c5b6bd304a8b",
   "metadata": {},
   "source": [
    "We can now train our final model!"
   ]
  },
  {
   "cell_type": "code",
   "execution_count": 55,
   "id": "b0f2d42f-c1bf-4a17-8c59-17f037db78bb",
   "metadata": {},
   "outputs": [],
   "source": [
    "params = {'max_depth': 4, 'min_samples_leaf': 18, 'min_samples_split': 17, 'criterion': 'entropy', 'ccp_alpha': 0.00811411}\n",
    "clf, features = train_full(df=df, model=DecisionTreeClassifier, params=params)"
   ]
  },
  {
   "cell_type": "markdown",
   "id": "704b82f8-ee47-48b4-8733-e70c18551d4c",
   "metadata": {},
   "source": [
    "### How Does It Perform on Test Data"
   ]
  },
  {
   "cell_type": "code",
   "execution_count": 66,
   "id": "a3d48202-5078-49a2-a918-e47000fca8ce",
   "metadata": {},
   "outputs": [],
   "source": [
    "def preprocess(df, target=False):\n",
    "    '''\n",
    "    Preprocessing unseen data by adding features and mapping target variable\n",
    "    :param df: pandas dataframe \n",
    "    :param target: str, default False but if true and a string then map target to binary\n",
    "    :return: processed dataframe\n",
    "    '''\n",
    "    # add new features\n",
    "    df['total_minutes'] = df['total_day_minutes'] + df['total_eve_minutes'] + df['total_night_minutes']\n",
    "    df['total_charge'] = df['total_day_charge'] + df['total_eve_charge'] + df['total_night_charge'] \n",
    "    # target mapping if req.\n",
    "    if target:\n",
    "        target_mapping = {\"no\": 0, \"yes\": 1}\n",
    "        df.loc[:, f'{target}'] = df[f'{target}'].map(target_mapping)\n",
    "    return df\n",
    "\n",
    "def predict(X, clf, feature_pipeline, thresh=0.5):\n",
    "    '''\n",
    "    Predict customer churn on new data \n",
    "    :param X: data containing features\n",
    "    :param clf: trained model\n",
    "    :param feature_pipeline: trained feature processing pipeline\n",
    "    :param thresh: prediction threshold\n",
    "    :return: predictions\n",
    "    '''\n",
    "    X = feature_pipeline.transform(X)\n",
    "    preds = (clf.predict_proba(X)[:,1] >= thresh).astype(int)\n",
    "    return preds"
   ]
  },
  {
   "cell_type": "code",
   "execution_count": 67,
   "id": "2e96b6ea-5905-4e9e-b971-f752aa4b8744",
   "metadata": {},
   "outputs": [
    {
     "name": "stdout",
     "output_type": "stream",
     "text": [
      "Average F1 = 0.7772925764192139, Recall = 0.6592592592592592, Precision = 0.9468085106382979\n"
     ]
    }
   ],
   "source": [
    "# load in test data and score\n",
    "df_test = pd.read_csv(\"data/external/test.csv\")\n",
    "# preprocess data\n",
    "df_test = preprocess(df_test, target='churn')\n",
    "# target mapping\n",
    "y_test = df_test['churn'].values\n",
    "# predict on unseen data\n",
    "preds = predict(df_test, clf, features)\n",
    "# score\n",
    "f1, recall, precision = score(y_test, preds)\n",
    "print(f\"Average F1 = {f1}, Recall = {recall}, Precision = {precision}\")"
   ]
  },
  {
   "cell_type": "code",
   "execution_count": 76,
   "id": "1fa37097-f4be-43f3-a3f6-ac5c477b4a9b",
   "metadata": {},
   "outputs": [],
   "source": [
    "with mlflow.start_run(run_name=\"dt_final_test_data\") as mlops_run:\n",
    "        mlflow.log_metric(\"F1\", 0.777)\n",
    "        mlflow.log_metric(\"Recall\", 0.659)\n",
    "        mlflow.log_metric(\"Preision\", 0.947)"
   ]
  },
  {
   "cell_type": "markdown",
   "id": "fc7f435a-318c-485b-a5ce-40411f56bc0b",
   "metadata": {},
   "source": [
    "The model does well on the test data! We can see that the precision is a lot higher than the recall however but this is something that can be tuned by changing the prediction probability threshold. In our case we are trying to get to 80% recall while maximizing precision."
   ]
  },
  {
   "cell_type": "markdown",
   "id": "9133b92d-00ab-4179-b8fe-4168d13eded1",
   "metadata": {},
   "source": [
    "### Picking the Optimal Probability Threshold"
   ]
  },
  {
   "cell_type": "markdown",
   "id": "11f2c584-e50d-4e7d-8cf1-b4164dd9d969",
   "metadata": {},
   "source": [
    "We can now tune the probability threshold to try and optimize our precision recall trade-off. Let's plot a precision recall curve and find the optimal threshold to achieve 80% recall. "
   ]
  },
  {
   "cell_type": "code",
   "execution_count": 69,
   "id": "e8737bdb-08b5-474b-978d-4b1d03c10f50",
   "metadata": {},
   "outputs": [
    {
     "data": {
      "image/png": "[encoded data removed]",
      "text/plain": [
       "<Figure size 432x288 with 1 Axes>"
      ]
     },
     "metadata": {},
     "output_type": "display_data"
    }
   ],
   "source": [
    "from sklearn.metrics import PrecisionRecallDisplay\n",
    "# training data\n",
    "x_train = features.transform(df)\n",
    "y_train = df['churn'].values\n",
    "# precision recall curve\n",
    "display = PrecisionRecallDisplay.from_estimator(\n",
    "    clf, x_train, y_train, name=\"Decision tree classifier\"\n",
    ")\n",
    "_ = display.ax_.set_title(\"Precision-Recall curve\")"
   ]
  },
  {
   "cell_type": "code",
   "execution_count": 72,
   "id": "d45ece1a-12f9-4434-8134-8c7761301422",
   "metadata": {},
   "outputs": [
    {
     "name": "stdout",
     "output_type": "stream",
     "text": [
      "0.4263565891472868\n"
     ]
    }
   ],
   "source": [
    "from sklearn.metrics import precision_recall_curve\n",
    "def optimize_threshold(clf, df, recall = 0.80):\n",
    "    '''\n",
    "    Optimize prob. threshold on training dataset \n",
    "    :param df: pandas dataframe\n",
    "    :param recall: desired recall \n",
    "    :return: optimal prob. threshold\n",
    "    '''    \n",
    "    # create features and target labels\n",
    "    X = features.transform(df)\n",
    "    y = df['churn'].values\n",
    "\n",
    "    # get scores for valid data\n",
    "    y_scores = clf.predict_proba(X)[:, 1]\n",
    "    # locate where recall is closest to 0.80\n",
    "    precisions, recalls, thresholds = precision_recall_curve(y, y_scores)\n",
    "    distance_to_optim = abs(recalls - recall)\n",
    "    optimal_idx = np.argmin(distance_to_optim)\n",
    "    thresh = thresholds[optimal_idx]\n",
    "    return thresh\n",
    "\n",
    "thresh = optimize_threshold(clf, df)\n",
    "print(thresh)"
   ]
  },
  {
   "cell_type": "markdown",
   "id": "0f39359a-d765-4eb4-82f7-d956e0c55c78",
   "metadata": {},
   "source": [
    "If we predict on our test set again then hopefully we will see something closer to our desired recall! And yes, I know i've committed the cardinal sin of using the test set twice but this was for demonstration purposes. The test set is normally a 'one and done' situation. "
   ]
  },
  {
   "cell_type": "code",
   "execution_count": 78,
   "id": "39f8c0bd-e526-43de-9c8a-eb6a233b48f0",
   "metadata": {},
   "outputs": [
    {
     "name": "stdout",
     "output_type": "stream",
     "text": [
      "Average F1 = 0.7958477508650519, Recall = 0.8518518518518519, Precision = 0.7467532467532467\n"
     ]
    }
   ],
   "source": [
    "# predict on unseen data\n",
    "preds = predict(df_test, clf, features, thresh=0.426)\n",
    "# score\n",
    "f1, recall, precision = score(y_test, preds)\n",
    "print(f\"Average F1 = {f1}, Recall = {recall}, Precision = {precision}\")\n",
    "with mlflow.start_run(run_name=\"dt_final_test_data_threshold_tuning\") as mlops_run:\n",
    "        mlflow.log_metric(\"F1\", f1)\n",
    "        mlflow.log_metric(\"Preision\", precision)\n",
    "        mlflow.log_metric(\"Recall\", recall)"
   ]
  },
  {
   "cell_type": "markdown",
   "id": "eedfe524-afd2-4acd-8388-e95853c8b3bc",
   "metadata": {},
   "source": [
    "Awesome! We have done what we wanted to do, and things work well! It's also great to see test scores so similar to our earlier scores as it shows we haven't overfitted our model. Let's log this model on MLFLOW."
   ]
  },
  {
   "cell_type": "code",
   "execution_count": 79,
   "id": "16fbf29d-bae5-459d-9373-bec82019a84c",
   "metadata": {},
   "outputs": [],
   "source": [
    "# log metrics on mlflow \n",
    "with mlflow.start_run(run_name=\"Final Decision Tree\") as mlops_run:\n",
    "        mlflow.log_metric(\"F1\", f1)\n",
    "        mlflow.log_metric(\"Recall\", recall)\n",
    "        mlflow.log_metric(\"Preision\", precision)\n",
    "        mlflow.log_params(params)\n",
    "        mlflow.log_params({\"prob_thresh\": 0.426})\n",
    "        # log model and pipeline\n",
    "        mlflow.sklearn.log_model(clf, \"clf\")\n",
    "        mlflow.sklearn.log_model(features, \"features_pipeline\")"
   ]
  },
  {
   "cell_type": "code",
   "execution_count": 81,
   "id": "46eb15d8-0ede-4339-816f-2f7a86f6124f",
   "metadata": {},
   "outputs": [],
   "source": [
    "# import pickle\n",
    "\n",
    "# with open('models/final_DT_model.pickle', 'wb') as f:\n",
    "#     pickle.dump(clf, f)\n",
    "\n",
    "# with open('models/feature_pipeline.pickle', 'wb') as f:\n",
    "#     pickle.dump(features, f)"
   ]
  },
  {
   "cell_type": "markdown",
   "id": "da093704-f3a9-40a7-9bbd-2ac2a0b73cce",
   "metadata": {},
   "source": [
    "### MLFLOW Experiment Session\n",
    "<img src=\"data/blog_content/mlflow.png\"/>"
   ]
  },
  {
   "cell_type": "markdown",
   "id": "ea91bfda-fd49-4319-85fb-46519cfb66a0",
   "metadata": {},
   "source": [
    "Oops, I've miss-spelled precision... oh well."
   ]
  },
  {
   "cell_type": "markdown",
   "id": "ef88d16b-a20c-4b9a-bac6-b8dce30fde67",
   "metadata": {},
   "source": [
    "## Model Interpreting \n",
    "\n",
    "Tree based models split the data multiple times according to certain cutoff values in the features. By splitting, different subsets of the dataset are created, where each instance belonging to a certain subset. To predict the outcome in each leaf node, the average outcome of the training data in this node is used. \n",
    "\n",
    "The interpretation for decision trees are very easy: Starting from the root node, you go to the next nodes and the edges tell you which subsets you are looking at. Once you reach the leaf node, the node tells you the predicted outcome. All the edges are connected by ‘AND’.\n",
    "\n",
    "So the general way we can predict is: If feature x is **smaller** (/bigger) than threshold c **AND** ... then the predicted outcome is the most common value of the target of the instances in that node. \n",
    "\n",
    "Let's plot out tree and see what we can infer! "
   ]
  },
  {
   "cell_type": "code",
   "execution_count": 92,
   "id": "ec1bcfc1-727e-4535-9d59-61ec646b523d",
   "metadata": {},
   "outputs": [
    {
     "data": {
      "image/svg+xml": [
       "<?xml version=\"1.0\" encoding=\"UTF-8\" standalone=\"no\"?>\n",
       "<!DOCTYPE svg PUBLIC \"-//W3C//DTD SVG 1.1//EN\"\n",
       " \"http://www.w3.org/Graphics/SVG/1.1/DTD/svg11.dtd\">\n",
       "<!-- Generated by graphviz version 2.50.0 (20211204.2007)\n",
       " -->\n",
       "<!-- Title: Tree Pages: 1 -->\n",
       "<svg width=\"788pt\" height=\"552pt\"\n",
       " viewBox=\"0.00 0.00 788.00 552.00\" xmlns=\"http://www.w3.org/2000/svg\" xmlns:xlink=\"http://www.w3.org/1999/xlink\">\n",
       "<g id=\"graph0\" class=\"graph\" transform=\"scale(1 1) rotate(0) translate(4 548)\">\n",
       "<title>Tree</title>\n",
       "<polygon fill=\"white\" stroke=\"transparent\" points=\"-4,4 -4,-548 784,-548 784,4 -4,4\"/>\n",
       "<!-- 0 -->\n",
       "<g id=\"node1\" class=\"node\">\n",
       "<title>0</title>\n",
       "<path fill=\"#f9e3d3\" stroke=\"black\" d=\"M575.5,-544C575.5,-544 416.5,-544 416.5,-544 410.5,-544 404.5,-538 404.5,-532 404.5,-532 404.5,-473 404.5,-473 404.5,-467 410.5,-461 416.5,-461 416.5,-461 575.5,-461 575.5,-461 581.5,-461 587.5,-467 587.5,-473 587.5,-473 587.5,-532 587.5,-532 587.5,-538 581.5,-544 575.5,-544\"/>\n",
       "<text text-anchor=\"start\" x=\"412.5\" y=\"-528.8\" font-family=\"Helvetica,sans-Serif\" font-size=\"14.00\">total_day_minutes ≤ 71.325</text>\n",
       "<text text-anchor=\"start\" x=\"448.5\" y=\"-513.8\" font-family=\"Helvetica,sans-Serif\" font-size=\"14.00\">entropy = 0.989</text>\n",
       "<text text-anchor=\"start\" x=\"447.5\" y=\"-498.8\" font-family=\"Helvetica,sans-Serif\" font-size=\"14.00\">samples = 6500</text>\n",
       "<text text-anchor=\"start\" x=\"434\" y=\"-483.8\" font-family=\"Helvetica,sans-Serif\" font-size=\"14.00\">value = [3652, 2848]</text>\n",
       "<text text-anchor=\"start\" x=\"445\" y=\"-468.8\" font-family=\"Helvetica,sans-Serif\" font-size=\"14.00\">class = No churn</text>\n",
       "</g>\n",
       "<!-- 1 -->\n",
       "<g id=\"node2\" class=\"node\">\n",
       "<title>1</title>\n",
       "<path fill=\"#f1bc95\" stroke=\"black\" d=\"M445,-425C445,-425 329,-425 329,-425 323,-425 317,-419 317,-413 317,-413 317,-354 317,-354 317,-348 323,-342 329,-342 329,-342 445,-342 445,-342 451,-342 457,-348 457,-354 457,-354 457,-413 457,-413 457,-419 451,-425 445,-425\"/>\n",
       "<text text-anchor=\"start\" x=\"325\" y=\"-409.8\" font-family=\"Helvetica,sans-Serif\" font-size=\"14.00\">total_charge ≤ 0.004</text>\n",
       "<text text-anchor=\"start\" x=\"339.5\" y=\"-394.8\" font-family=\"Helvetica,sans-Serif\" font-size=\"14.00\">entropy = 0.901</text>\n",
       "<text text-anchor=\"start\" x=\"338.5\" y=\"-379.8\" font-family=\"Helvetica,sans-Serif\" font-size=\"14.00\">samples = 5228</text>\n",
       "<text text-anchor=\"start\" x=\"325\" y=\"-364.8\" font-family=\"Helvetica,sans-Serif\" font-size=\"14.00\">value = [3569, 1659]</text>\n",
       "<text text-anchor=\"start\" x=\"336\" y=\"-349.8\" font-family=\"Helvetica,sans-Serif\" font-size=\"14.00\">class = No churn</text>\n",
       "</g>\n",
       "<!-- 0&#45;&gt;1 -->\n",
       "<g id=\"edge1\" class=\"edge\">\n",
       "<title>0&#45;&gt;1</title>\n",
       "<path fill=\"none\" stroke=\"black\" d=\"M458.18,-460.91C449.64,-451.74 440.5,-441.93 431.71,-432.49\"/>\n",
       "<polygon fill=\"black\" stroke=\"black\" points=\"434.13,-429.95 424.75,-425.02 429.01,-434.72 434.13,-429.95\"/>\n",
       "<text text-anchor=\"middle\" x=\"423.87\" y=\"-446.31\" font-family=\"Helvetica,sans-Serif\" font-size=\"14.00\">True</text>\n",
       "</g>\n",
       "<!-- 12 -->\n",
       "<g id=\"node13\" class=\"node\">\n",
       "<title>12</title>\n",
       "<path fill=\"#47a4e7\" stroke=\"black\" d=\"M723,-425C723,-425 487,-425 487,-425 481,-425 475,-419 475,-413 475,-413 475,-354 475,-354 475,-348 481,-342 487,-342 487,-342 723,-342 723,-342 729,-342 735,-348 735,-354 735,-354 735,-413 735,-413 735,-419 729,-425 723,-425\"/>\n",
       "<text text-anchor=\"start\" x=\"483\" y=\"-409.8\" font-family=\"Helvetica,sans-Serif\" font-size=\"14.00\">number_customer_service_calls ≤ 0.965</text>\n",
       "<text text-anchor=\"start\" x=\"557.5\" y=\"-394.8\" font-family=\"Helvetica,sans-Serif\" font-size=\"14.00\">entropy = 0.348</text>\n",
       "<text text-anchor=\"start\" x=\"556.5\" y=\"-379.8\" font-family=\"Helvetica,sans-Serif\" font-size=\"14.00\">samples = 1272</text>\n",
       "<text text-anchor=\"start\" x=\"550.5\" y=\"-364.8\" font-family=\"Helvetica,sans-Serif\" font-size=\"14.00\">value = [83, 1189]</text>\n",
       "<text text-anchor=\"start\" x=\"563\" y=\"-349.8\" font-family=\"Helvetica,sans-Serif\" font-size=\"14.00\">class = Churn</text>\n",
       "</g>\n",
       "<!-- 0&#45;&gt;12 -->\n",
       "<g id=\"edge12\" class=\"edge\">\n",
       "<title>0&#45;&gt;12</title>\n",
       "<path fill=\"none\" stroke=\"black\" d=\"M533.82,-460.91C542.36,-451.74 551.5,-441.93 560.29,-432.49\"/>\n",
       "<polygon fill=\"black\" stroke=\"black\" points=\"562.99,-434.72 567.25,-425.02 557.87,-429.95 562.99,-434.72\"/>\n",
       "<text text-anchor=\"middle\" x=\"568.13\" y=\"-446.31\" font-family=\"Helvetica,sans-Serif\" font-size=\"14.00\">False</text>\n",
       "</g>\n",
       "<!-- 2 -->\n",
       "<g id=\"node3\" class=\"node\">\n",
       "<title>2</title>\n",
       "<path fill=\"#eb9c64\" stroke=\"black\" d=\"M314.5,-306C314.5,-306 169.5,-306 169.5,-306 163.5,-306 157.5,-300 157.5,-294 157.5,-294 157.5,-235 157.5,-235 157.5,-229 163.5,-223 169.5,-223 169.5,-223 314.5,-223 314.5,-223 320.5,-223 326.5,-229 326.5,-235 326.5,-235 326.5,-294 326.5,-294 326.5,-300 320.5,-306 314.5,-306\"/>\n",
       "<text text-anchor=\"start\" x=\"165.5\" y=\"-290.8\" font-family=\"Helvetica,sans-Serif\" font-size=\"14.00\">total_day_charge ≤ 3.001</text>\n",
       "<text text-anchor=\"start\" x=\"194.5\" y=\"-275.8\" font-family=\"Helvetica,sans-Serif\" font-size=\"14.00\">entropy = 0.677</text>\n",
       "<text text-anchor=\"start\" x=\"193.5\" y=\"-260.8\" font-family=\"Helvetica,sans-Serif\" font-size=\"14.00\">samples = 4075</text>\n",
       "<text text-anchor=\"start\" x=\"184\" y=\"-245.8\" font-family=\"Helvetica,sans-Serif\" font-size=\"14.00\">value = [3347, 728]</text>\n",
       "<text text-anchor=\"start\" x=\"191\" y=\"-230.8\" font-family=\"Helvetica,sans-Serif\" font-size=\"14.00\">class = No churn</text>\n",
       "</g>\n",
       "<!-- 1&#45;&gt;2 -->\n",
       "<g id=\"edge2\" class=\"edge\">\n",
       "<title>1&#45;&gt;2</title>\n",
       "<path fill=\"none\" stroke=\"black\" d=\"M336.69,-341.91C324.88,-332.38 312.21,-322.15 300.09,-312.37\"/>\n",
       "<polygon fill=\"black\" stroke=\"black\" points=\"302.2,-309.58 292.22,-306.02 297.8,-315.02 302.2,-309.58\"/>\n",
       "</g>\n",
       "<!-- 7 -->\n",
       "<g id=\"node8\" class=\"node\">\n",
       "<title>7</title>\n",
       "<path fill=\"#68b4eb\" stroke=\"black\" d=\"M457.5,-306C457.5,-306 356.5,-306 356.5,-306 350.5,-306 344.5,-300 344.5,-294 344.5,-294 344.5,-235 344.5,-235 344.5,-229 350.5,-223 356.5,-223 356.5,-223 457.5,-223 457.5,-223 463.5,-223 469.5,-229 469.5,-235 469.5,-235 469.5,-294 469.5,-294 469.5,-300 463.5,-306 457.5,-306\"/>\n",
       "<text text-anchor=\"start\" x=\"352.5\" y=\"-290.8\" font-family=\"Helvetica,sans-Serif\" font-size=\"14.00\">total_charge ≤ 1.0</text>\n",
       "<text text-anchor=\"start\" x=\"359.5\" y=\"-275.8\" font-family=\"Helvetica,sans-Serif\" font-size=\"14.00\">entropy = 0.707</text>\n",
       "<text text-anchor=\"start\" x=\"358.5\" y=\"-260.8\" font-family=\"Helvetica,sans-Serif\" font-size=\"14.00\">samples = 1153</text>\n",
       "<text text-anchor=\"start\" x=\"352.5\" y=\"-245.8\" font-family=\"Helvetica,sans-Serif\" font-size=\"14.00\">value = [222, 931]</text>\n",
       "<text text-anchor=\"start\" x=\"365\" y=\"-230.8\" font-family=\"Helvetica,sans-Serif\" font-size=\"14.00\">class = Churn</text>\n",
       "</g>\n",
       "<!-- 1&#45;&gt;7 -->\n",
       "<g id=\"edge7\" class=\"edge\">\n",
       "<title>1&#45;&gt;7</title>\n",
       "<path fill=\"none\" stroke=\"black\" d=\"M393.94,-341.91C395.37,-333.56 396.89,-324.67 398.36,-316.02\"/>\n",
       "<polygon fill=\"black\" stroke=\"black\" points=\"401.84,-316.47 400.07,-306.02 394.94,-315.29 401.84,-316.47\"/>\n",
       "</g>\n",
       "<!-- 3 -->\n",
       "<g id=\"node4\" class=\"node\">\n",
       "<title>3</title>\n",
       "<path fill=\"#e78c4a\" stroke=\"black\" d=\"M120,-179.5C120,-179.5 12,-179.5 12,-179.5 6,-179.5 0,-173.5 0,-167.5 0,-167.5 0,-123.5 0,-123.5 0,-117.5 6,-111.5 12,-111.5 12,-111.5 120,-111.5 120,-111.5 126,-111.5 132,-117.5 132,-123.5 132,-123.5 132,-167.5 132,-167.5 132,-173.5 126,-179.5 120,-179.5\"/>\n",
       "<text text-anchor=\"start\" x=\"18.5\" y=\"-164.3\" font-family=\"Helvetica,sans-Serif\" font-size=\"14.00\">entropy = 0.394</text>\n",
       "<text text-anchor=\"start\" x=\"17.5\" y=\"-149.3\" font-family=\"Helvetica,sans-Serif\" font-size=\"14.00\">samples = 3465</text>\n",
       "<text text-anchor=\"start\" x=\"8\" y=\"-134.3\" font-family=\"Helvetica,sans-Serif\" font-size=\"14.00\">value = [3196, 269]</text>\n",
       "<text text-anchor=\"start\" x=\"15\" y=\"-119.3\" font-family=\"Helvetica,sans-Serif\" font-size=\"14.00\">class = No churn</text>\n",
       "</g>\n",
       "<!-- 2&#45;&gt;3 -->\n",
       "<g id=\"edge3\" class=\"edge\">\n",
       "<title>2&#45;&gt;3</title>\n",
       "<path fill=\"none\" stroke=\"black\" d=\"M180.94,-222.91C162.68,-210.77 142.71,-197.49 124.61,-185.46\"/>\n",
       "<polygon fill=\"black\" stroke=\"black\" points=\"126.16,-182.29 115.89,-179.67 122.28,-188.12 126.16,-182.29\"/>\n",
       "</g>\n",
       "<!-- 4 -->\n",
       "<g id=\"node5\" class=\"node\">\n",
       "<title>4</title>\n",
       "<path fill=\"#7abdee\" stroke=\"black\" d=\"M321.5,-187C321.5,-187 162.5,-187 162.5,-187 156.5,-187 150.5,-181 150.5,-175 150.5,-175 150.5,-116 150.5,-116 150.5,-110 156.5,-104 162.5,-104 162.5,-104 321.5,-104 321.5,-104 327.5,-104 333.5,-110 333.5,-116 333.5,-116 333.5,-175 333.5,-175 333.5,-181 327.5,-187 321.5,-187\"/>\n",
       "<text text-anchor=\"start\" x=\"158.5\" y=\"-171.8\" font-family=\"Helvetica,sans-Serif\" font-size=\"14.00\">total_day_minutes ≤ 55.086</text>\n",
       "<text text-anchor=\"start\" x=\"194.5\" y=\"-156.8\" font-family=\"Helvetica,sans-Serif\" font-size=\"14.00\">entropy = 0.807</text>\n",
       "<text text-anchor=\"start\" x=\"197\" y=\"-141.8\" font-family=\"Helvetica,sans-Serif\" font-size=\"14.00\">samples = 610</text>\n",
       "<text text-anchor=\"start\" x=\"187.5\" y=\"-126.8\" font-family=\"Helvetica,sans-Serif\" font-size=\"14.00\">value = [151, 459]</text>\n",
       "<text text-anchor=\"start\" x=\"200\" y=\"-111.8\" font-family=\"Helvetica,sans-Serif\" font-size=\"14.00\">class = Churn</text>\n",
       "</g>\n",
       "<!-- 2&#45;&gt;4 -->\n",
       "<g id=\"edge4\" class=\"edge\">\n",
       "<title>2&#45;&gt;4</title>\n",
       "<path fill=\"none\" stroke=\"black\" d=\"M242,-222.91C242,-214.65 242,-205.86 242,-197.3\"/>\n",
       "<polygon fill=\"black\" stroke=\"black\" points=\"245.5,-197.02 242,-187.02 238.5,-197.02 245.5,-197.02\"/>\n",
       "</g>\n",
       "<!-- 5 -->\n",
       "<g id=\"node6\" class=\"node\">\n",
       "<title>5</title>\n",
       "<path fill=\"#3e9fe6\" stroke=\"black\" d=\"M241.5,-68C241.5,-68 148.5,-68 148.5,-68 142.5,-68 136.5,-62 136.5,-56 136.5,-56 136.5,-12 136.5,-12 136.5,-6 142.5,0 148.5,0 148.5,0 241.5,0 241.5,0 247.5,0 253.5,-6 253.5,-12 253.5,-12 253.5,-56 253.5,-56 253.5,-62 247.5,-68 241.5,-68\"/>\n",
       "<text text-anchor=\"start\" x=\"147.5\" y=\"-52.8\" font-family=\"Helvetica,sans-Serif\" font-size=\"14.00\">entropy = 0.162</text>\n",
       "<text text-anchor=\"start\" x=\"150\" y=\"-37.8\" font-family=\"Helvetica,sans-Serif\" font-size=\"14.00\">samples = 464</text>\n",
       "<text text-anchor=\"start\" x=\"144.5\" y=\"-22.8\" font-family=\"Helvetica,sans-Serif\" font-size=\"14.00\">value = [11, 453]</text>\n",
       "<text text-anchor=\"start\" x=\"153\" y=\"-7.8\" font-family=\"Helvetica,sans-Serif\" font-size=\"14.00\">class = Churn</text>\n",
       "</g>\n",
       "<!-- 4&#45;&gt;5 -->\n",
       "<g id=\"edge5\" class=\"edge\">\n",
       "<title>4&#45;&gt;5</title>\n",
       "<path fill=\"none\" stroke=\"black\" d=\"M224.5,-103.73C220.86,-95.24 217.01,-86.28 213.34,-77.73\"/>\n",
       "<polygon fill=\"black\" stroke=\"black\" points=\"216.45,-76.11 209.29,-68.3 210.02,-78.87 216.45,-76.11\"/>\n",
       "</g>\n",
       "<!-- 6 -->\n",
       "<g id=\"node7\" class=\"node\">\n",
       "<title>6</title>\n",
       "<path fill=\"#e68641\" stroke=\"black\" d=\"M378,-68C378,-68 284,-68 284,-68 278,-68 272,-62 272,-56 272,-56 272,-12 272,-12 272,-6 278,0 284,0 284,0 378,0 378,0 384,0 390,-6 390,-12 390,-12 390,-56 390,-56 390,-62 384,-68 378,-68\"/>\n",
       "<text text-anchor=\"start\" x=\"283.5\" y=\"-52.8\" font-family=\"Helvetica,sans-Serif\" font-size=\"14.00\">entropy = 0.247</text>\n",
       "<text text-anchor=\"start\" x=\"286\" y=\"-37.8\" font-family=\"Helvetica,sans-Serif\" font-size=\"14.00\">samples = 146</text>\n",
       "<text text-anchor=\"start\" x=\"284\" y=\"-22.8\" font-family=\"Helvetica,sans-Serif\" font-size=\"14.00\">value = [140, 6]</text>\n",
       "<text text-anchor=\"start\" x=\"280\" y=\"-7.8\" font-family=\"Helvetica,sans-Serif\" font-size=\"14.00\">class = No churn</text>\n",
       "</g>\n",
       "<!-- 4&#45;&gt;6 -->\n",
       "<g id=\"edge6\" class=\"edge\">\n",
       "<title>4&#45;&gt;6</title>\n",
       "<path fill=\"none\" stroke=\"black\" d=\"M275.14,-103.73C282.48,-94.7 290.26,-85.12 297.61,-76.08\"/>\n",
       "<polygon fill=\"black\" stroke=\"black\" points=\"300.34,-78.27 303.93,-68.3 294.91,-73.85 300.34,-78.27\"/>\n",
       "</g>\n",
       "<!-- 8 -->\n",
       "<g id=\"node9\" class=\"node\">\n",
       "<title>8</title>\n",
       "<path fill=\"#399de5\" stroke=\"black\" d=\"M450,-179.5C450,-179.5 364,-179.5 364,-179.5 358,-179.5 352,-173.5 352,-167.5 352,-167.5 352,-123.5 352,-123.5 352,-117.5 358,-111.5 364,-111.5 364,-111.5 450,-111.5 450,-111.5 456,-111.5 462,-117.5 462,-123.5 462,-123.5 462,-167.5 462,-167.5 462,-173.5 456,-179.5 450,-179.5\"/>\n",
       "<text text-anchor=\"start\" x=\"367\" y=\"-164.3\" font-family=\"Helvetica,sans-Serif\" font-size=\"14.00\">entropy = 0.0</text>\n",
       "<text text-anchor=\"start\" x=\"362\" y=\"-149.3\" font-family=\"Helvetica,sans-Serif\" font-size=\"14.00\">samples = 612</text>\n",
       "<text text-anchor=\"start\" x=\"360\" y=\"-134.3\" font-family=\"Helvetica,sans-Serif\" font-size=\"14.00\">value = [0, 612]</text>\n",
       "<text text-anchor=\"start\" x=\"365\" y=\"-119.3\" font-family=\"Helvetica,sans-Serif\" font-size=\"14.00\">class = Churn</text>\n",
       "</g>\n",
       "<!-- 7&#45;&gt;8 -->\n",
       "<g id=\"edge8\" class=\"edge\">\n",
       "<title>7&#45;&gt;8</title>\n",
       "<path fill=\"none\" stroke=\"black\" d=\"M407,-222.91C407,-212.2 407,-200.62 407,-189.78\"/>\n",
       "<polygon fill=\"black\" stroke=\"black\" points=\"410.5,-189.67 407,-179.67 403.5,-189.67 410.5,-189.67\"/>\n",
       "</g>\n",
       "<!-- 9 -->\n",
       "<g id=\"node10\" class=\"node\">\n",
       "<title>9</title>\n",
       "<path fill=\"#c3e1f7\" stroke=\"black\" d=\"M689.5,-187C689.5,-187 492.5,-187 492.5,-187 486.5,-187 480.5,-181 480.5,-175 480.5,-175 480.5,-116 480.5,-116 480.5,-110 486.5,-104 492.5,-104 492.5,-104 689.5,-104 689.5,-104 695.5,-104 701.5,-110 701.5,-116 701.5,-116 701.5,-175 701.5,-175 701.5,-181 695.5,-187 689.5,-187\"/>\n",
       "<text text-anchor=\"start\" x=\"488.5\" y=\"-171.8\" font-family=\"Helvetica,sans-Serif\" font-size=\"14.00\">number_vmail_messages ≤ 2.997</text>\n",
       "<text text-anchor=\"start\" x=\"543.5\" y=\"-156.8\" font-family=\"Helvetica,sans-Serif\" font-size=\"14.00\">entropy = 0.977</text>\n",
       "<text text-anchor=\"start\" x=\"546\" y=\"-141.8\" font-family=\"Helvetica,sans-Serif\" font-size=\"14.00\">samples = 541</text>\n",
       "<text text-anchor=\"start\" x=\"536.5\" y=\"-126.8\" font-family=\"Helvetica,sans-Serif\" font-size=\"14.00\">value = [222, 319]</text>\n",
       "<text text-anchor=\"start\" x=\"549\" y=\"-111.8\" font-family=\"Helvetica,sans-Serif\" font-size=\"14.00\">class = Churn</text>\n",
       "</g>\n",
       "<!-- 7&#45;&gt;9 -->\n",
       "<g id=\"edge9\" class=\"edge\">\n",
       "<title>7&#45;&gt;9</title>\n",
       "<path fill=\"none\" stroke=\"black\" d=\"M469.55,-223.73C485.2,-213.78 502.12,-203.02 518.21,-192.78\"/>\n",
       "<polygon fill=\"black\" stroke=\"black\" points=\"520.5,-195.48 527.06,-187.16 516.74,-189.57 520.5,-195.48\"/>\n",
       "</g>\n",
       "<!-- 10 -->\n",
       "<g id=\"node11\" class=\"node\">\n",
       "<title>10</title>\n",
       "<path fill=\"#399de5\" stroke=\"black\" d=\"M546,-68C546,-68 460,-68 460,-68 454,-68 448,-62 448,-56 448,-56 448,-12 448,-12 448,-6 454,0 460,0 460,0 546,0 546,0 552,0 558,-6 558,-12 558,-12 558,-56 558,-56 558,-62 552,-68 546,-68\"/>\n",
       "<text text-anchor=\"start\" x=\"463\" y=\"-52.8\" font-family=\"Helvetica,sans-Serif\" font-size=\"14.00\">entropy = 0.0</text>\n",
       "<text text-anchor=\"start\" x=\"458\" y=\"-37.8\" font-family=\"Helvetica,sans-Serif\" font-size=\"14.00\">samples = 154</text>\n",
       "<text text-anchor=\"start\" x=\"456\" y=\"-22.8\" font-family=\"Helvetica,sans-Serif\" font-size=\"14.00\">value = [0, 154]</text>\n",
       "<text text-anchor=\"start\" x=\"461\" y=\"-7.8\" font-family=\"Helvetica,sans-Serif\" font-size=\"14.00\">class = Churn</text>\n",
       "</g>\n",
       "<!-- 9&#45;&gt;10 -->\n",
       "<g id=\"edge10\" class=\"edge\">\n",
       "<title>9&#45;&gt;10</title>\n",
       "<path fill=\"none\" stroke=\"black\" d=\"M558.23,-103.73C551.05,-94.79 543.44,-85.32 536.24,-76.36\"/>\n",
       "<polygon fill=\"black\" stroke=\"black\" points=\"538.75,-73.9 529.76,-68.3 533.3,-78.29 538.75,-73.9\"/>\n",
       "</g>\n",
       "<!-- 11 -->\n",
       "<g id=\"node12\" class=\"node\">\n",
       "<title>11</title>\n",
       "<path fill=\"#f8dfcc\" stroke=\"black\" d=\"M689.5,-68C689.5,-68 588.5,-68 588.5,-68 582.5,-68 576.5,-62 576.5,-56 576.5,-56 576.5,-12 576.5,-12 576.5,-6 582.5,0 588.5,0 588.5,0 689.5,0 689.5,0 695.5,0 701.5,-6 701.5,-12 701.5,-12 701.5,-56 701.5,-56 701.5,-62 695.5,-68 689.5,-68\"/>\n",
       "<text text-anchor=\"start\" x=\"591.5\" y=\"-52.8\" font-family=\"Helvetica,sans-Serif\" font-size=\"14.00\">entropy = 0.984</text>\n",
       "<text text-anchor=\"start\" x=\"594\" y=\"-37.8\" font-family=\"Helvetica,sans-Serif\" font-size=\"14.00\">samples = 387</text>\n",
       "<text text-anchor=\"start\" x=\"584.5\" y=\"-22.8\" font-family=\"Helvetica,sans-Serif\" font-size=\"14.00\">value = [222, 165]</text>\n",
       "<text text-anchor=\"start\" x=\"588\" y=\"-7.8\" font-family=\"Helvetica,sans-Serif\" font-size=\"14.00\">class = No churn</text>\n",
       "</g>\n",
       "<!-- 9&#45;&gt;11 -->\n",
       "<g id=\"edge11\" class=\"edge\">\n",
       "<title>9&#45;&gt;11</title>\n",
       "<path fill=\"none\" stroke=\"black\" d=\"M608.87,-103.73C612.59,-95.24 616.52,-86.28 620.27,-77.73\"/>\n",
       "<polygon fill=\"black\" stroke=\"black\" points=\"623.59,-78.86 624.4,-68.3 617.18,-76.05 623.59,-78.86\"/>\n",
       "</g>\n",
       "<!-- 13 -->\n",
       "<g id=\"node14\" class=\"node\">\n",
       "<title>13</title>\n",
       "<path fill=\"#3a9ee5\" stroke=\"black\" d=\"M631.5,-298.5C631.5,-298.5 538.5,-298.5 538.5,-298.5 532.5,-298.5 526.5,-292.5 526.5,-286.5 526.5,-286.5 526.5,-242.5 526.5,-242.5 526.5,-236.5 532.5,-230.5 538.5,-230.5 538.5,-230.5 631.5,-230.5 631.5,-230.5 637.5,-230.5 643.5,-236.5 643.5,-242.5 643.5,-242.5 643.5,-286.5 643.5,-286.5 643.5,-292.5 637.5,-298.5 631.5,-298.5\"/>\n",
       "<text text-anchor=\"start\" x=\"537.5\" y=\"-283.3\" font-family=\"Helvetica,sans-Serif\" font-size=\"14.00\">entropy = 0.059</text>\n",
       "<text text-anchor=\"start\" x=\"536.5\" y=\"-268.3\" font-family=\"Helvetica,sans-Serif\" font-size=\"14.00\">samples = 1181</text>\n",
       "<text text-anchor=\"start\" x=\"534.5\" y=\"-253.3\" font-family=\"Helvetica,sans-Serif\" font-size=\"14.00\">value = [8, 1173]</text>\n",
       "<text text-anchor=\"start\" x=\"543\" y=\"-238.3\" font-family=\"Helvetica,sans-Serif\" font-size=\"14.00\">class = Churn</text>\n",
       "</g>\n",
       "<!-- 12&#45;&gt;13 -->\n",
       "<g id=\"edge13\" class=\"edge\">\n",
       "<title>12&#45;&gt;13</title>\n",
       "<path fill=\"none\" stroke=\"black\" d=\"M598.06,-341.91C596.23,-331.2 594.25,-319.62 592.4,-308.78\"/>\n",
       "<polygon fill=\"black\" stroke=\"black\" points=\"595.8,-307.93 590.67,-298.67 588.9,-309.11 595.8,-307.93\"/>\n",
       "</g>\n",
       "<!-- 14 -->\n",
       "<g id=\"node15\" class=\"node\">\n",
       "<title>14</title>\n",
       "<path fill=\"#eb9c63\" stroke=\"black\" d=\"M768,-298.5C768,-298.5 674,-298.5 674,-298.5 668,-298.5 662,-292.5 662,-286.5 662,-286.5 662,-242.5 662,-242.5 662,-236.5 668,-230.5 674,-230.5 674,-230.5 768,-230.5 768,-230.5 774,-230.5 780,-236.5 780,-242.5 780,-242.5 780,-286.5 780,-286.5 780,-292.5 774,-298.5 768,-298.5\"/>\n",
       "<text text-anchor=\"start\" x=\"673.5\" y=\"-283.3\" font-family=\"Helvetica,sans-Serif\" font-size=\"14.00\">entropy = 0.671</text>\n",
       "<text text-anchor=\"start\" x=\"680\" y=\"-268.3\" font-family=\"Helvetica,sans-Serif\" font-size=\"14.00\">samples = 91</text>\n",
       "<text text-anchor=\"start\" x=\"674\" y=\"-253.3\" font-family=\"Helvetica,sans-Serif\" font-size=\"14.00\">value = [75, 16]</text>\n",
       "<text text-anchor=\"start\" x=\"670\" y=\"-238.3\" font-family=\"Helvetica,sans-Serif\" font-size=\"14.00\">class = No churn</text>\n",
       "</g>\n",
       "<!-- 12&#45;&gt;14 -->\n",
       "<g id=\"edge14\" class=\"edge\">\n",
       "<title>12&#45;&gt;14</title>\n",
       "<path fill=\"none\" stroke=\"black\" d=\"M645.25,-341.91C656.84,-330.21 669.49,-317.46 681.06,-305.78\"/>\n",
       "<polygon fill=\"black\" stroke=\"black\" points=\"683.56,-308.23 688.12,-298.67 678.59,-303.3 683.56,-308.23\"/>\n",
       "</g>\n",
       "</g>\n",
       "</svg>\n"
      ],
      "text/plain": [
       "<graphviz.sources.Source at 0x7f7c81b32670>"
      ]
     },
     "execution_count": 92,
     "metadata": {},
     "output_type": "execute_result"
    }
   ],
   "source": [
    "# get feature names\n",
    "numeric_features = [\n",
    "    'total_charge', 'number_customer_service_calls', 'total_day_minutes', 'total_day_charge', \n",
    "    'total_minutes', 'total_intl_calls', 'total_intl_minutes', 'number_vmail_messages', 'total_intl_charge'\n",
    "]\n",
    "binary_features = ['international_plan', 'voice_mail_plan']\n",
    "feature_names = np.append(numeric_features, binary_features)\n",
    "\n",
    "# plot tree from our model\n",
    "import graphviz \n",
    "from sklearn import tree\n",
    "tree_graph = tree.export_graphviz(clf, out_file=None, \n",
    "                              feature_names=feature_names,  \n",
    "                              class_names=['No churn', 'Churn'],  \n",
    "                              filled=True, rounded=True,  \n",
    "                              special_characters=True)\n",
    "\n",
    "graph = graphviz.Source(tree_graph) \n",
    "graph "
   ]
  },
  {
   "cell_type": "markdown",
   "id": "53ec6343-e910-4ceb-904f-8171e490f283",
   "metadata": {},
   "source": [
    "<img src=\"data/blog_content/tree.png\" align=\"center\"/>"
   ]
  },
  {
   "cell_type": "markdown",
   "id": "cdc268fb-a4f0-458e-bb33-0a0159aa4a18",
   "metadata": {},
   "source": [
    "Each node in the tree will give a condition and the left node below is True and the right node is False.\n",
    "The first split was performed with the total day minutes feature, which counts the total minutes of all calls made in the day. We can see for example that if the total minutes is less than 71 we follow the tree left and if the minutes is greater than 71 we go right. \n",
    "\n",
    "Each prediction from the tree is made by following the tree down until a root node is hit. For example, if a customer has less than 71 total day minutes and there total charge is between 0.04 and 1 then we would predict them to churn. \n",
    "\n",
    "We can see that the charge from the telecom provider seems to be a big distinguishing factor between customers and this is confirmed by the SHAP feature importance plot earlier. By following the tree left we can see that customers with a high day charge but low day minutes tend to churn more than stay. If the day charge is less than 3 however, the customers tend to stay no matter what the minutes are! One possible explanation to this could be that the customers churning are on mobile plans that don't correctly suit their needs, this would need to be investigated further though. \n",
    "\n",
    "Another interesting observation is that if a customer has a high total day minutes ($\\geq 71$) and they do not speak to customer service ($\\leq  0.965$ calls i.e. no calls) they are more likely to churn than customers that do speak to customer service. Again, this would need further investigation to draw conclusions as to why this is true. \n",
    "\n",
    "As with most data problems, it quite often leads to more questions to be answered!"
   ]
  },
  {
   "cell_type": "markdown",
   "id": "506128d1-e6eb-41dc-882c-455f645c03b1",
   "metadata": {},
   "source": [
    "### Conclusion \n",
    "We have built an interpretable machine learning model that can identify customers that are likely to churn with our desired recall of 80% (we actually achieved 85% on the test set) and a precision of 75%. That is we identify 85% of the churned customers correctly and 75% of our churn predictions are accurate. Using this model we can then understand the key factors driving customers to leave and hopefully we can use this to try and keep more customers in the long run.  "
   ]
  }
 ],
 "metadata": {
  "kernelspec": {
   "display_name": "Python 3 (ipykernel)",
   "language": "python",
   "name": "python3"
  },
  "language_info": {
   "codemirror_mode": {
    "name": "ipython",
    "version": 3
   },
   "file_extension": ".py",
   "mimetype": "text/x-python",
   "name": "python",
   "nbconvert_exporter": "python",
   "pygments_lexer": "ipython3",
   "version": "3.9.7"
  }
 },
 "nbformat": 4,
 "nbformat_minor": 5
}
