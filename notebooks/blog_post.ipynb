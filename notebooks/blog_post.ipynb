{
 "cells": [
  {
   "cell_type": "code",
   "execution_count": 2,
   "id": "f7368208-c484-4a17-abef-8a30d22ec4d3",
   "metadata": {},
   "outputs": [],
   "source": [
    "from src.models.logistic_regression import feature_pipeline"
   ]
  }
 ],
 "metadata": {
  "kernelspec": {
   "display_name": "Python 3.7.11 64-bit ('churn_model': conda)",
   "language": "python",
   "name": "python3711jvsc74a57bd0454a2d271b433a93984de74b50934208af08b1e852a8d5376165a692d1581134"
  },
  "language_info": {
   "codemirror_mode": {
    "name": "ipython",
    "version": 3
   },
   "file_extension": ".py",
   "mimetype": "text/x-python",
   "name": "python",
   "nbconvert_exporter": "python",
   "pygments_lexer": "ipython3",
   "version": "3.7.11"
  }
 },
 "nbformat": 4,
 "nbformat_minor": 5
}
